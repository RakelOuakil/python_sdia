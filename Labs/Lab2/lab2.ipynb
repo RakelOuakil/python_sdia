{
 "cells": [
  {
   "cell_type": "markdown",
   "metadata": {},
   "source": [
    "# Practical session 2 - Practise with classic libraries\n",
    "\n",
    "Students (pair):\n",
    "- [Gabriel Gozlan](https://github.com/GabrielGozlan)\n",
    "- [Rakel Ouakil](https://github.com/RakelOuakil)"
   ]
  },
  {
   "cell_type": "markdown",
   "metadata": {},
   "source": [
    "**Useful references for this lab**:\n",
    "\n",
    "[1] `numpy`: [lecture notes (1.4.1-1.4.2)](https://scipy-lectures.org/intro/numpy/index.html) and [documentation](https://numpy.org/doc/stable/)\n",
    "\n",
    "[2] `pandas`: [documentation](https://pandas.pydata.org/docs/getting_started/index.html), [quick tutorial](https://pandas.pydata.org/pandas-docs/version/0.15/10min.html)\n",
    "\n",
    "[3] `matplotlib`: [lecture notes (1.5)](https://scipy-lectures.org/intro/matplotlib/index.html) and [documentation](https://matplotlib.org/)\n",
    "\n",
    "[4] `h5py`: [quick start guide](http://docs.h5py.org/en/stable/quick.html#quick)"
   ]
  },
  {
   "cell_type": "markdown",
   "metadata": {},
   "source": [
    "## <a name=\"content\">Contents</a>\n",
    "- [Exercise 1: Computing basic statistics](#ex1)\n",
    "- [Exercise 2: Random variables and histograms](#ex2)\n",
    "- [Exercise 3: Discrete isotropic total variation](#ex3)\n",
    "---"
   ]
  },
  {
   "cell_type": "code",
   "metadata": {
    "ExecuteTime": {
     "end_time": "2025-09-22T16:14:04.567678Z",
     "start_time": "2025-09-22T16:13:53.503068Z"
    }
   },
   "source": [
    "%load_ext autoreload\n",
    "%autoreload 2"
   ],
   "outputs": [],
   "execution_count": 105
  },
  {
   "metadata": {},
   "cell_type": "markdown",
   "source": "## Imports"
  },
  {
   "metadata": {
    "ExecuteTime": {
     "end_time": "2025-09-22T16:34:44.177540Z",
     "start_time": "2025-09-22T16:34:44.106100Z"
    }
   },
   "cell_type": "code",
   "source": [
    "from typing import List\n",
    "import numpy as np\n",
    "import secrets\n",
    "import os\n",
    "from pathlib import Path\n",
    "import matplotlib.pyplot as plt\n",
    "import scipy.special as sps\n",
    "\n",
    "import pandas as pd\n",
    "from IPython.display import display\n",
    "import ipytest\n",
    "\n"
   ],
   "outputs": [],
   "execution_count": 141
  },
  {
   "metadata": {
    "ExecuteTime": {
     "end_time": "2025-09-22T16:14:12.991121Z",
     "start_time": "2025-09-22T16:14:12.880360Z"
    }
   },
   "cell_type": "code",
   "source": "LAB_DIR = Path(os.getcwd())",
   "outputs": [],
   "execution_count": 107
  },
  {
   "metadata": {},
   "cell_type": "markdown",
   "source": "## Global I/O"
  },
  {
   "metadata": {
    "ExecuteTime": {
     "end_time": "2025-09-22T16:14:13.723037Z",
     "start_time": "2025-09-22T16:14:13.574081Z"
    }
   },
   "cell_type": "code",
   "source": [
    "def save_fig_as_png(filename: str) -> None:\n",
    "    \"\"\"\n",
    "    Parameters\n",
    "    ----------\n",
    "    filename : str\n",
    "\n",
    "    Returns\n",
    "    -------\n",
    "        None\n",
    "    \"\"\"\n",
    "    if os.path.exists(LAB_DIR / filename):\n",
    "        print(\"PNG already exists !\")\n",
    "        return None\n",
    "    else:\n",
    "        plt.savefig(LAB_DIR / filename, dpi=300)\n",
    "        return None\n"
   ],
   "outputs": [],
   "execution_count": 108
  },
  {
   "metadata": {
    "ExecuteTime": {
     "end_time": "2025-09-22T16:14:14.230011Z",
     "start_time": "2025-09-22T16:14:13.964887Z"
    }
   },
   "cell_type": "code",
   "source": [
    "# Save vector in .npy\n",
    "\n",
    "def save_vector_as_npy(vector: np.ndarray, filename: str = \"sample.npy\") -> None:\n",
    "    \"\"\"\n",
    "    Parameters\n",
    "    ----------\n",
    "    vector : np.ndarray\n",
    "    filename : str\n",
    "\n",
    "    Returns\n",
    "    -------\n",
    "        None\n",
    "    \"\"\"\n",
    "    if os.path.exists(LAB_DIR / filename):\n",
    "        print(\"File already exists !\")\n",
    "        return None\n",
    "    else:\n",
    "        with open(LAB_DIR / filename, \"wb\") as f:\n",
    "            np.save(f, vector)\n",
    "    print(\"File saved successfully !\")\n",
    "    return None\n"
   ],
   "outputs": [],
   "execution_count": 109
  },
  {
   "metadata": {
    "ExecuteTime": {
     "end_time": "2025-09-22T16:14:18.160871Z",
     "start_time": "2025-09-22T16:14:18.110899Z"
    }
   },
   "cell_type": "code",
   "source": [
    "def load_npy_vector(filename: str = \"sample.npy\") -> np.ndarray | None:\n",
    "    \"\"\"\n",
    "    Parameters\n",
    "    ----------\n",
    "    filename : str\n",
    "\n",
    "    Returns\n",
    "    -------\n",
    "    vector: np.ndarray | None\n",
    "    \"\"\"\n",
    "    if not os.path.exists(LAB_DIR / filename):\n",
    "        print(\"File doesn't exist !\")\n",
    "        return None\n",
    "    else:\n",
    "        with open(LAB_DIR / filename, \"rb\") as f:\n",
    "            vector = np.load(f)\n",
    "    print(\"Vector loaded !\")\n",
    "    return vector"
   ],
   "outputs": [],
   "execution_count": 111
  },
  {
   "cell_type": "markdown",
   "metadata": {},
   "source": [
    "---\n",
    "## <a name=\"ex1\">Exercise 1: Random variables and histograms</a>\n",
    "\n",
    "In this exercise, we are interested in generating samples from the Gamma distribution $\\mathcal{G}(\\alpha,\\beta)$, of probability density function (pdf)\n",
    "\n",
    "\\begin{equation}\n",
    "    p(x) = \\frac{\\beta^\\alpha}{\\Gamma(\\alpha)} x^{\\alpha-1} \\exp(-\\beta x) \\mathbb{1}_{\\mathbb{R}_+^*}(x),\n",
    "\\end{equation}\n",
    "\n",
    "and displaying their histogram. In the following, we consider $(\\alpha, \\beta) = (9, 2)$.\n",
    "\n",
    "1\\. Set the random seed to a fixed value for reproducibility, and biefly check your instruction works as intended.\n",
    "> Hint: you may take a look at the following pages: [random module](https://numpy.org/doc/stable/reference/random/index.html?highlight=random#module-numpy.random), [random generator](https://numpy.org/doc/stable/reference/random/generator.html)."
   ]
  },
  {
   "cell_type": "markdown",
   "metadata": {},
   "source": [
    "**Answer**:"
   ]
  },
  {
   "metadata": {},
   "cell_type": "markdown",
   "source": "First, we generate an arbitrary 128-bits integer with secrets.randbits (it's the random seed).\n"
  },
  {
   "cell_type": "code",
   "metadata": {
    "ExecuteTime": {
     "end_time": "2025-09-22T16:14:21.765911Z",
     "start_time": "2025-09-22T16:14:21.690302Z"
    }
   },
   "source": "# secrets.randbits(128)\n",
   "outputs": [],
   "execution_count": 112
  },
  {
   "metadata": {
    "ExecuteTime": {
     "end_time": "2025-09-22T16:14:22.161025Z",
     "start_time": "2025-09-22T16:14:22.091156Z"
    }
   },
   "cell_type": "code",
   "source": [
    "random_seed = 261760519584560275253684893175904508885 # generated with secrets.randbits\n",
    "rng = np.random.default_rng(seed=random_seed)\n"
   ],
   "outputs": [],
   "execution_count": 113
  },
  {
   "metadata": {
    "ExecuteTime": {
     "end_time": "2025-09-22T16:14:22.693566Z",
     "start_time": "2025-09-22T16:14:22.598973Z"
    }
   },
   "cell_type": "code",
   "source": [
    "# Check the reproductibility\n",
    "\n",
    "rng = np.random.default_rng(seed=random_seed)\n",
    "rd1 = rng.random()\n",
    "print(rd1)\n",
    "\n",
    "# reinitialize class\n",
    "rng = np.random.default_rng(seed=random_seed)\n",
    "rd2 = rng.random()\n",
    "print(rd2)\n",
    "\n",
    "print(rd1 == rd2)\n"
   ],
   "outputs": [
    {
     "name": "stdout",
     "output_type": "stream",
     "text": [
      "0.6347800226513781\n",
      "0.6347800226513781\n",
      "True\n"
     ]
    }
   ],
   "execution_count": 114
  },
  {
   "metadata": {
    "ExecuteTime": {
     "end_time": "2025-09-22T16:14:23.518084Z",
     "start_time": "2025-09-22T16:14:23.444727Z"
    }
   },
   "cell_type": "code",
   "source": [
    "# Without seed there is no reproductibility\n",
    "\n",
    "rng = np.random.default_rng()\n",
    "rd1 = rng.random()\n",
    "print(rd1)\n",
    "\n",
    "# reinitialize class\n",
    "rng = np.random.default_rng()\n",
    "rd2 = rng.random()\n",
    "print(rd2)\n",
    "\n",
    "print(rd1 == rd2)\n",
    "\n"
   ],
   "outputs": [
    {
     "name": "stdout",
     "output_type": "stream",
     "text": [
      "0.10874688178907643\n",
      "0.9441672810973948\n",
      "False\n"
     ]
    }
   ],
   "execution_count": 115
  },
  {
   "metadata": {
    "ExecuteTime": {
     "end_time": "2025-09-22T16:14:26.303325Z",
     "start_time": "2025-09-22T16:14:26.230403Z"
    }
   },
   "cell_type": "code",
   "source": "rng = np.random.default_rng(seed=random_seed) # for the next questions",
   "outputs": [],
   "execution_count": 116
  },
  {
   "cell_type": "markdown",
   "metadata": {},
   "source": [
    "2\\. Generate $\\approx 10^5$ samples in a vector. Save the vector in a file, `samples.hdf5` or `samples.npy`.\n",
    "> Warning / hint: \n",
    "> - take a careful look at the [documentation](https://numpy.org/doc/stable/reference/random/generated/numpy.random.gamma.html?highlight=gamma#numpy.random.gamma) (multiple conventions exist for the definition of the pdf underlying the distribution...);\n",
    "> - to save data in a `npy` file, take a look at the example reported in the [Numpy documentation](https://numpy.org/doc/stable/reference/generated/numpy.save.html);\n",
    "> - to save data in a `.h5` file, take a quick look at the [documentation here](https://docs.h5py.org/en/stable/quick.html#quick)."
   ]
  },
  {
   "cell_type": "markdown",
   "metadata": {},
   "source": [
    "**Answer**:"
   ]
  },
  {
   "metadata": {},
   "cell_type": "markdown",
   "source": [
    "The pdf of Gamma distribution in numpy doc :\n",
    "\n",
    "$$\n",
    "p(x) = \\frac{x^{k-1} e^{-x/\\theta}}{\\theta^k \\, \\Gamma(k)},\n",
    "$$\n",
    "\n",
    "so by identification : $\\theta = 1 / \\beta = 0.5$ and $k = alpha = 9$\n",
    "with $\\theta$ the scale and $k$ the shape.\n"
   ]
  },
  {
   "cell_type": "code",
   "metadata": {
    "ExecuteTime": {
     "end_time": "2025-09-22T16:14:29.909245Z",
     "start_time": "2025-09-22T16:14:29.841341Z"
    }
   },
   "source": [
    "shape, scale = 9, 0.5\n",
    "\n",
    "random_gamma_vector = rng.gamma(shape, scale, 10 ** 5)\n",
    "\n",
    "# the pdf values are >= 0 because x >= 0\n",
    "print(all(random_gamma_vector >= 0))\n",
    "print(random_gamma_vector.shape == (10 ** 5, ))\n",
    "\n"
   ],
   "outputs": [
    {
     "name": "stdout",
     "output_type": "stream",
     "text": [
      "True\n",
      "True\n"
     ]
    }
   ],
   "execution_count": 117
  },
  {
   "metadata": {
    "ExecuteTime": {
     "end_time": "2025-09-22T16:14:31.127989Z",
     "start_time": "2025-09-22T16:14:31.046257Z"
    }
   },
   "cell_type": "code",
   "source": "save_vector_as_npy(vector=random_gamma_vector)\n",
   "outputs": [
    {
     "name": "stdout",
     "output_type": "stream",
     "text": [
      "File already exists !\n"
     ]
    }
   ],
   "execution_count": 118
  },
  {
   "metadata": {
    "ExecuteTime": {
     "end_time": "2025-09-22T16:14:33.109941Z",
     "start_time": "2025-09-22T16:14:32.997904Z"
    }
   },
   "cell_type": "code",
   "source": [
    "gamma_vector = load_npy_vector()\n",
    "gamma_vector"
   ],
   "outputs": [
    {
     "name": "stdout",
     "output_type": "stream",
     "text": [
      "Vector loaded !\n"
     ]
    },
    {
     "data": {
      "text/plain": [
       "array([4.54115904, 3.10138672, 1.9818431 , ..., 5.33987184, 3.87866832,\n",
       "       6.110993  ], shape=(100000,))"
      ]
     },
     "execution_count": 119,
     "metadata": {},
     "output_type": "execute_result"
    }
   ],
   "execution_count": 119
  },
  {
   "cell_type": "markdown",
   "metadata": {},
   "source": [
    "3\\. Estimate an histogram of this distribution for a well chosen set of bins, and display it.\n",
    "> Warnings: \n",
    "> - make sure the [histogram](https://matplotlib.org/api/_as_gen/matplotlib.pyplot.hist.html?highlight=hist#matplotlib.pyplot.hist) corresponds to a probability density function (pdf);\n",
    "> - do not forget to include a proper title with names for the axes."
   ]
  },
  {
   "cell_type": "markdown",
   "metadata": {},
   "source": [
    "**Answer**:"
   ]
  },
  {
   "cell_type": "code",
   "metadata": {
    "ExecuteTime": {
     "end_time": "2025-09-22T16:14:37.939043Z",
     "start_time": "2025-09-22T16:14:37.870084Z"
    }
   },
   "source": [
    "def plot_gamma_distrib_histogram(gamma_vector: np.ndarray) -> tuple[np.ndarray, np.ndarray]:\n",
    "    \"\"\"\n",
    "    Parameters\n",
    "    ----------\n",
    "    gamma_vector : np.ndarray\n",
    "\n",
    "    Returns\n",
    "    -------\n",
    "    count, bins : tuple[np.ndarray, np.ndarray]\n",
    "    \"\"\"\n",
    "    count, bins, patches = plt.hist(\n",
    "        gamma_vector,\n",
    "        bins=63,\n",
    "        density=True,\n",
    "        alpha=0.6,\n",
    "        label=\"Empirical histogram\"\n",
    "    )\n",
    "    plt.title(f\"Histogram of random gamma vector values (size {gamma_vector.shape[0]})\")\n",
    "    plt.xlabel(\"Values\")\n",
    "    plt.ylabel(\"Normalized density\")\n",
    "    return count, bins"
   ],
   "outputs": [],
   "execution_count": 120
  },
  {
   "metadata": {
    "ExecuteTime": {
     "end_time": "2025-09-22T16:14:40.481115Z",
     "start_time": "2025-09-22T16:14:39.812360Z"
    }
   },
   "cell_type": "code",
   "source": [
    "count, bins = plot_gamma_distrib_histogram(gamma_vector=gamma_vector)\n",
    "plt.show()"
   ],
   "outputs": [
    {
     "data": {
      "text/plain": [
       "<Figure size 640x480 with 1 Axes>"
      ],
      "image/png": "[encoded data removed]"
     },
     "metadata": {},
     "output_type": "display_data"
    }
   ],
   "execution_count": 121
  },
  {
   "metadata": {
    "ExecuteTime": {
     "end_time": "2025-09-22T16:14:44.747150Z",
     "start_time": "2025-09-22T16:14:44.708866Z"
    }
   },
   "cell_type": "code",
   "source": [
    "# Make sure the histogram is a pdf\n",
    "\n",
    "# We know the function is continuous (then mesurable)\n",
    "\n",
    "print(np.all(count >= 0)) # density values must be >= 0\n",
    "\n",
    "# finally, we can verify the integer of the pdf for x>=0 equals approximately 1.\n",
    "integral = np.sum(count * np.diff(bins)) # Integral of the PDF ≈ sum over bins of height * width\n",
    "print(integral)\n",
    "print(np.isclose(integral, 1.0, atol=1e-2))\n"
   ],
   "outputs": [
    {
     "name": "stdout",
     "output_type": "stream",
     "text": [
      "True\n",
      "0.9999999999999998\n",
      "True\n"
     ]
    }
   ],
   "execution_count": 122
  },
  {
   "cell_type": "markdown",
   "metadata": {},
   "source": [
    "4\\. Overlay the probability density function on the histogram and compare these in a few words. Save the resulting picture in `.png` format.\n",
    "> Hint: \n",
    "> - take a look at the `scipy` [documentation](https://docs.scipy.org/doc/scipy/reference/stats.html) to avoid implementing the pdf from scratch;\n",
    "> - return the bins in which the histogram is computed, and evaluate the pdf on those points."
   ]
  },
  {
   "cell_type": "markdown",
   "metadata": {},
   "source": [
    "**Answer**:"
   ]
  },
  {
   "cell_type": "code",
   "metadata": {
    "ExecuteTime": {
     "end_time": "2025-09-22T16:14:52.720627Z",
     "start_time": "2025-09-22T16:14:52.669488Z"
    }
   },
   "source": [
    "def gamma_pdf_function(x: np.ndarray, scale: float = 0.5, shape: float = 9.) -> np.ndarray:\n",
    "    \"\"\"\n",
    "    Parameters\n",
    "    ----------\n",
    "    x : np.ndarray\n",
    "    scale : float\n",
    "    shape : float\n",
    "\n",
    "    Returns\n",
    "    -------\n",
    "        np.ndarray\n",
    "    \"\"\"\n",
    "    return x**(shape-1)*(np.exp(-bins/scale) /  (sps.gamma(shape)*scale**shape)) # numpy formula for gamma pdf\n"
   ],
   "outputs": [],
   "execution_count": 123
  },
  {
   "metadata": {
    "ExecuteTime": {
     "end_time": "2025-09-22T16:14:53.575684Z",
     "start_time": "2025-09-22T16:14:53.213080Z"
    }
   },
   "cell_type": "code",
   "source": [
    "count, bins = plot_gamma_distrib_histogram(gamma_vector=gamma_vector)\n",
    "\n",
    "y = gamma_pdf_function(x=bins) # we evaluate the pdf on the points of bins\n",
    "\n",
    "plt.plot(bins, y, \"r-\", linewidth=2, label=\"Theoritical gamma pdf\")\n",
    "plt.legend()\n",
    "plt.grid(alpha=0.4)\n",
    "plt.tight_layout()\n",
    "\n",
    "save_fig_as_png(filename=\"histogram.png\") # save figure as png\n",
    "\n",
    "\n",
    "plt.show()"
   ],
   "outputs": [
    {
     "name": "stdout",
     "output_type": "stream",
     "text": [
      "PNG already exists !\n"
     ]
    },
    {
     "data": {
      "text/plain": [
       "<Figure size 640x480 with 1 Axes>"
      ],
      "image/png": "[encoded data removed]"
     },
     "metadata": {},
     "output_type": "display_data"
    }
   ],
   "execution_count": 124
  },
  {
   "metadata": {},
   "cell_type": "markdown",
   "source": "As expected, the empirical histogram aligns well with his theoretical gamma probability density function.\n"
  },
  {
   "cell_type": "markdown",
   "metadata": {},
   "source": [
    "---\n",
    "## <a name=\"ex2\">Exercise 2: Basic statistics with `pandas`</a>\n",
    "\n",
    "In this second exercise, we focus on computing basic statistics, and applying linear regression to a small data set. These data are gathered in the following table, which gives the infant mortality (`X`) and the gross national product per inhabitant (`Y`) of 12 european countries :\n",
    "\n",
    "| `X` | 190 | 128 | 180 | 212 | 56 | 192 | 68 | 98 | 110 | 197 | 181 | 233 |\n",
    "|-----|-----|-----|-----|----|-----|----|----|-----|-----|-----|-----|-----|\n",
    "| `Y` |  24 |  28 |  24 | 19 |  37 | 22 | 34 |  25 |  36 |  24 |  20 |  18 |\n",
    "\n",
    "1\\. For `X `and `Y`, compute the median, mean, variance and standard deviation. The data points have already been entered into a `.csv` file stored in `data/data.csv`.\n",
    "> Hint: \n",
    "> - you can directly use `pandas` to load the data into a `DataFrame` ([`pd.read_csv`](https://pandas.pydata.org/docs/reference/frame.html));\n",
    "> - take a look at the built-in operations available for `DataFrame` objects ([documentation](https://pandas.pydata.org/docs/reference/frame.html));\n",
    "> - to display a `DataFrame` `f`:\n",
    "> ```python \n",
    "> from IPython.display import display\n",
    "> display(df)\n",
    "> ```\n",
    "> - sort the `DataFrame` with respect to the value of `X` (see [here](https://pandas.pydata.org/docs/reference/api/pandas.DataFrame.sort_values.html#pandas.DataFrame.sort_values)) This will be useful for question 3."
   ]
  },
  {
   "cell_type": "markdown",
   "metadata": {},
   "source": [
    "**Answer**:"
   ]
  },
  {
   "metadata": {
    "ExecuteTime": {
     "end_time": "2025-09-22T16:14:59.650692Z",
     "start_time": "2025-09-22T16:14:59.485944Z"
    }
   },
   "cell_type": "code",
   "source": [
    "df = pd.read_csv(\"data/data.csv\")\n",
    "display(df)"
   ],
   "outputs": [
    {
     "data": {
      "text/plain": [
       "      X   Y\n",
       "0   190  24\n",
       "1   128  28\n",
       "2   180  24\n",
       "3   212  19\n",
       "4    56  37\n",
       "5   192  22\n",
       "6    68  34\n",
       "7    98  25\n",
       "8   110  36\n",
       "9   197  24\n",
       "10  181  20\n",
       "11  233  18"
      ],
      "text/html": [
       "<div>\n",
       "<style scoped>\n",
       "    .dataframe tbody tr th:only-of-type {\n",
       "        vertical-align: middle;\n",
       "    }\n",
       "\n",
       "    .dataframe tbody tr th {\n",
       "        vertical-align: top;\n",
       "    }\n",
       "\n",
       "    .dataframe thead th {\n",
       "        text-align: right;\n",
       "    }\n",
       "</style>\n",
       "<table border=\"1\" class=\"dataframe\">\n",
       "  <thead>\n",
       "    <tr style=\"text-align: right;\">\n",
       "      <th></th>\n",
       "      <th>X</th>\n",
       "      <th>Y</th>\n",
       "    </tr>\n",
       "  </thead>\n",
       "  <tbody>\n",
       "    <tr>\n",
       "      <th>0</th>\n",
       "      <td>190</td>\n",
       "      <td>24</td>\n",
       "    </tr>\n",
       "    <tr>\n",
       "      <th>1</th>\n",
       "      <td>128</td>\n",
       "      <td>28</td>\n",
       "    </tr>\n",
       "    <tr>\n",
       "      <th>2</th>\n",
       "      <td>180</td>\n",
       "      <td>24</td>\n",
       "    </tr>\n",
       "    <tr>\n",
       "      <th>3</th>\n",
       "      <td>212</td>\n",
       "      <td>19</td>\n",
       "    </tr>\n",
       "    <tr>\n",
       "      <th>4</th>\n",
       "      <td>56</td>\n",
       "      <td>37</td>\n",
       "    </tr>\n",
       "    <tr>\n",
       "      <th>5</th>\n",
       "      <td>192</td>\n",
       "      <td>22</td>\n",
       "    </tr>\n",
       "    <tr>\n",
       "      <th>6</th>\n",
       "      <td>68</td>\n",
       "      <td>34</td>\n",
       "    </tr>\n",
       "    <tr>\n",
       "      <th>7</th>\n",
       "      <td>98</td>\n",
       "      <td>25</td>\n",
       "    </tr>\n",
       "    <tr>\n",
       "      <th>8</th>\n",
       "      <td>110</td>\n",
       "      <td>36</td>\n",
       "    </tr>\n",
       "    <tr>\n",
       "      <th>9</th>\n",
       "      <td>197</td>\n",
       "      <td>24</td>\n",
       "    </tr>\n",
       "    <tr>\n",
       "      <th>10</th>\n",
       "      <td>181</td>\n",
       "      <td>20</td>\n",
       "    </tr>\n",
       "    <tr>\n",
       "      <th>11</th>\n",
       "      <td>233</td>\n",
       "      <td>18</td>\n",
       "    </tr>\n",
       "  </tbody>\n",
       "</table>\n",
       "</div>"
      ]
     },
     "metadata": {},
     "output_type": "display_data"
    }
   ],
   "execution_count": 125
  },
  {
   "metadata": {
    "ExecuteTime": {
     "end_time": "2025-09-22T16:15:02.321505Z",
     "start_time": "2025-09-22T16:15:02.215368Z"
    }
   },
   "cell_type": "code",
   "source": [
    "stats = pd.DataFrame({\n",
    "    \"mean\": df.mean(),\n",
    "    \"median\": df.median(),\n",
    "    \"variance\": df.var(),\n",
    "    \"std_dev\": df.std()\n",
    "})\n",
    "\n",
    "display(stats)"
   ],
   "outputs": [
    {
     "data": {
      "text/plain": [
       "         mean  median     variance    std_dev\n",
       "X  153.750000   180.5  3486.022727  59.042550\n",
       "Y   25.916667    24.0    42.446970   6.515134"
      ],
      "text/html": [
       "<div>\n",
       "<style scoped>\n",
       "    .dataframe tbody tr th:only-of-type {\n",
       "        vertical-align: middle;\n",
       "    }\n",
       "\n",
       "    .dataframe tbody tr th {\n",
       "        vertical-align: top;\n",
       "    }\n",
       "\n",
       "    .dataframe thead th {\n",
       "        text-align: right;\n",
       "    }\n",
       "</style>\n",
       "<table border=\"1\" class=\"dataframe\">\n",
       "  <thead>\n",
       "    <tr style=\"text-align: right;\">\n",
       "      <th></th>\n",
       "      <th>mean</th>\n",
       "      <th>median</th>\n",
       "      <th>variance</th>\n",
       "      <th>std_dev</th>\n",
       "    </tr>\n",
       "  </thead>\n",
       "  <tbody>\n",
       "    <tr>\n",
       "      <th>X</th>\n",
       "      <td>153.750000</td>\n",
       "      <td>180.5</td>\n",
       "      <td>3486.022727</td>\n",
       "      <td>59.042550</td>\n",
       "    </tr>\n",
       "    <tr>\n",
       "      <th>Y</th>\n",
       "      <td>25.916667</td>\n",
       "      <td>24.0</td>\n",
       "      <td>42.446970</td>\n",
       "      <td>6.515134</td>\n",
       "    </tr>\n",
       "  </tbody>\n",
       "</table>\n",
       "</div>"
      ]
     },
     "metadata": {},
     "output_type": "display_data"
    }
   ],
   "execution_count": 126
  },
  {
   "cell_type": "markdown",
   "metadata": {},
   "source": [
    "2\\. Give the equation of the regression line of `Y` as a function of `X`.\n",
    "> Hint: \n",
    "> - take a look at the functionalities available in `numpy` (e.g., `np.polyfit` and `np.polyval`);\n",
    "> - if needed, note that you can retrieve the data from the resulting `pandas` `DataFrame` with the `to_numpy()` method."
   ]
  },
  {
   "cell_type": "markdown",
   "metadata": {},
   "source": [
    "**Answer**:"
   ]
  },
  {
   "cell_type": "code",
   "metadata": {
    "ExecuteTime": {
     "end_time": "2025-09-22T16:15:05.494335Z",
     "start_time": "2025-09-22T16:15:05.440491Z"
    }
   },
   "source": [
    "X = df[\"X\"]\n",
    "y = df[\"Y\"]\n",
    "a, b = np.polyfit(X, y, 1) # linear regression in 2D\n",
    "\n",
    "print(\"Y = a * X + b with\")\n",
    "print(f\"slope : {a} and intercept : {b}\")"
   ],
   "outputs": [
    {
     "name": "stdout",
     "output_type": "stream",
     "text": [
      "Y = a * X + b with\n",
      "slope : -0.09816474883463173 and intercept : 41.0094967999913\n"
     ]
    }
   ],
   "execution_count": 127
  },
  {
   "cell_type": "markdown",
   "metadata": {},
   "source": [
    "3\\. Display the cloud of points and the regression line $Y = f(X)$ on the same figure. Save the figure in `.png` format."
   ]
  },
  {
   "metadata": {
    "ExecuteTime": {
     "end_time": "2025-09-22T16:15:08.175857Z",
     "start_time": "2025-09-22T16:15:07.906448Z"
    }
   },
   "cell_type": "code",
   "source": [
    "# sort X values\n",
    "X_sorted = np.sort(X)\n",
    "y_pred = a * X_sorted + b\n",
    "\n",
    "plt.scatter(X, y, label=\"CSV values\", color=\"blue\")\n",
    "plt.plot(X_sorted, y_pred, label=\"Predicted values\", color=\"red\")\n",
    "\n",
    "plt.title(\"Linear regression\")\n",
    "plt.xlabel(\"X values\")\n",
    "plt.ylabel(\"Y values\")\n",
    "plt.legend()\n",
    "\n",
    "save_fig_as_png(filename=\"regression_line.png\") # save figure as png\n",
    "\n",
    "plt.show()\n"
   ],
   "outputs": [
    {
     "name": "stdout",
     "output_type": "stream",
     "text": [
      "PNG already exists !\n"
     ]
    },
    {
     "data": {
      "text/plain": [
       "<Figure size 640x480 with 1 Axes>"
      ],
      "image/png": "[encoded data removed]"
     },
     "metadata": {},
     "output_type": "display_data"
    }
   ],
   "execution_count": 128
  },
  {
   "cell_type": "markdown",
   "metadata": {},
   "source": [
    "---\n",
    "## <a name=\"ex3\">Exercise 3: Discrete isotropic total variation</a>\n",
    "\n",
    "This exercise is devoted to the computation of the discrete isotropic total variation (TV) of an input matrix $\\mathbf{X} = [\\mathbf{x}_n]_{1 \\leq n \\leq N} \\in\\mathbb{C}^{M \\times N}$, which is particularly useful in Bayesian inference (e.g., for inverse problems) to promote piece-wise smooth solutions. The TV is defined as\n",
    "\n",
    "\\begin{equation*}\n",
    "    \\text{TV}(\\mathbf{X}) = \\Vert D(\\mathbf{X}) \\Vert_{1,2} = \\sum_{m=1}^M \\sum_{n=1}^N \\sqrt{[\\mathbf{XD}_h]^2_{m,n} + [\\mathbf{D}_v\\mathbf{X}]^2_{m,n}},\n",
    "\\end{equation*}\n",
    "\n",
    "where $[\\mathbf{Z}]_{m,n}$ denotes the elements in position $(m,n)$ of the matrix $\\mathbf{Z}$,\n",
    "\n",
    "\\begin{align*}\n",
    "    D(X) &= (\\mathbf{XD}_h, \\mathbf{D}_v\\mathbf{X}) \\in \\mathbb{C}^{M\\times N} \\times \\mathbb{C}^{M\\times N} \\\\\n",
    "    %\n",
    "    \\mathbf{XD}_h &= [\\mathbf{x}_2-\\mathbf{x}_1, \\dotsc, \\mathbf{x}_N-\\mathbf{x}_{N-1}, \\mathbf{0}_M] \\in \\mathbb{C}^{M\\times N} \\\\\n",
    "    %\n",
    "    \\mathbf{D}_v\\mathbf{X} &= [\\tilde{\\mathbf{x}}_2^T-\\tilde{\\mathbf{x}}^T_1, \\dotsc, \\tilde{\\mathbf{x}}^T_M-\\tilde{\\mathbf{x}}^T_{M-1}, \\mathbf{0}_N]^T \\in \\mathbb{C}^{M\\times N},\n",
    "\\end{align*}\n",
    "\n",
    "$\\mathbf{x}_n \\in \\mathbb{C}^{M}$ is the $n$-th column of $\\mathbf{X}$, and $\\tilde{\\mathbf{x}}_m \\in \\mathbb{C}^{1\\times N}$ is the $m$-th row of $\\mathbf{X}$. \n",
    "The linear operator $D: \\mathbb{C}^{M\\times N} \\rightarrow \\mathbb{C}^{M\\times N} \\times \\mathbb{C}^{M\\times N} $ is the discrete gradient operator. The adjoint of $D$, $D^*: \\mathbb{C}^{M\\times N} \\times \\mathbb{C}^{M\\times N} \\rightarrow \\mathbb{C}^{M\\times N}$, is given by\n",
    "\n",
    "\\begin{align*}\n",
    "    (\\forall \\mathbf{Y} = (\\mathbf{Y}_h,\\mathbf{Y}_v)), \\quad D^*(\\mathbf{Y}) &= \\mathbf{Y}_h\\mathbf{D}^*_h + \\mathbf{D}^*_v\\mathbf{Y}_v \\\\\n",
    "    %\n",
    "    \\mathbf{Y}_h\\mathbf{D}^*_h &= \\big[-\\mathbf{y}_{h,1},- [\\mathbf{y}_{h,n}-\\mathbf{y}_{h,n-1}]_{2 \\leq n \\leq N-1}, \\mathbf{y}_{h, N-1} \\big] \\\\\n",
    "    %\n",
    "    \\mathbf{D}^*_v\\mathbf{Y}_v &= \\big[-\\tilde{\\mathbf{y}}_{v,1}^T,- [\\tilde{\\mathbf{y}}_{v,m}^T-\\tilde{\\mathbf{y}}^T_{v,m-1}]_{2 \\leq m \\leq M-1}, \\tilde{\\mathbf{y}}^T_{v, M-1} \\big]^T\n",
    "\\end{align*}\n",
    "\n",
    "where $\\mathbf{y}_{h,n}$ is the $n$-th column of $\\mathbf{Y}_h$, and $\\tilde{\\mathbf{x}}_{v,m}$ is the $m$-th row of $\\mathbf{Y}_v$.\n",
    "\n",
    "1\\. Using `numpy`, implement a function `gradient2D` to compute the 2D discrete gradient operator $D$ applied to a matrix $\\mathbf{X}\\in\\mathbb{C}^{M \\times N}$ (no for loops!). Trigger an error message whenever the input array has more than 2 dimensions. If not clear from the implementation, add a few short comments to explain your code.\n",
    "\n",
    "> Hint: \n",
    "> - to trigger an error, you can for instance use an `assert` statement, or raise an [exception (e.g., `AssertionError`)](https://docs.python.org/3/library/exceptions.html);\n",
    "> - only a few operations are needed: computing vertical differences, horizontal differences, and possibly a concatenation of matrices into a single tensor (= n-dimensional array);\n",
    "> - possibly useful functions: `np.diff`, `np.c_`, `np.r_` (or `np.concatenate`). "
   ]
  },
  {
   "cell_type": "markdown",
   "metadata": {},
   "source": [
    "**Answer**:"
   ]
  },
  {
   "cell_type": "code",
   "metadata": {
    "ExecuteTime": {
     "end_time": "2025-09-22T16:15:20.571546Z",
     "start_time": "2025-09-22T16:15:20.521865Z"
    }
   },
   "source": [
    "def gradient2D(X: np.ndarray) -> tuple[np.ndarray, np.ndarray]:\n",
    "    \"\"\"\n",
    "    Implementation of the 2D discrete gradient operator D applied to a matrix.\n",
    "\n",
    "    Computes the discrete gradient D(X) = (XD_h, D_v X) where:\n",
    "    - XD_h: horizontal differences with zero-padding\n",
    "    - D_v X: vertical differences with zero-padding\n",
    "\n",
    "    Parameters\n",
    "    ----------\n",
    "    X : np.ndarray of shape (M, N)\n",
    "        Input 2D matrix (real or complex).\n",
    "\n",
    "    Returns\n",
    "    -------\n",
    "    XD_h : np.ndarray of shape (M, N)\n",
    "        Horizontal component: [x_2-x_1, ..., x_N-x_{N-1}, 0_M]\n",
    "    D_vX : np.ndarray of shape (M, N)\n",
    "        Vertical component: [x̃_2^T-x̃_1^T, ..., x̃_M^T-x̃_{M-1}^T, 0_N]^T\n",
    "\n",
    "    Raises\n",
    "    ------\n",
    "    AssertionError\n",
    "        If X has more than 2 dimensions.\n",
    "    \"\"\"\n",
    "    if len(X.shape) > 2:\n",
    "        raise AssertionError(\"X must be 2D\")\n",
    "\n",
    "    XD_h = np.c_[np.diff(X, axis=1), np.zeros((X.shape[0], 1))]\n",
    "    D_vX = np.r_[np.diff(X, axis=0), np.zeros((1, X.shape[1]))]\n",
    "    return (XD_h, D_vX)\n"
   ],
   "outputs": [],
   "execution_count": 129
  },
  {
   "cell_type": "markdown",
   "metadata": {},
   "source": [
    "2\\. Implement a unit-test to validate the behaviour of the `gradient2D` function. For instance, you can check the format of the output, and test the result when the function is evaluated on a constant matrix (for both a square and a non-square input matrix). Run the unit-test from the present Jupyter notebook."
   ]
  },
  {
   "cell_type": "markdown",
   "metadata": {},
   "source": [
    "**Answer**:"
   ]
  },
  {
   "cell_type": "code",
   "metadata": {
    "ExecuteTime": {
     "end_time": "2025-09-22T16:15:24.508510Z",
     "start_time": "2025-09-22T16:15:22.697973Z"
    }
   },
   "source": [
    "def test_gradient2D():\n",
    "    A = np.array([[1+1j, 1-1j], [-1+1j, -1-1j]])\n",
    "    B = np.array([[1+1j, 1-1j], [-1+1j, -1-1j], [1+2j, 1-2j]])\n",
    "\n",
    "    C = np.ones((2, 2))\n",
    "    D = np.c_[C, np.ones((2, 1))]\n",
    "\n",
    "     # square non-constant matrix case\n",
    "    result_with_A = gradient2D(A)\n",
    "    assert isinstance(result_with_A, tuple)\n",
    "    assert len(result_with_A) == 2\n",
    "    assert result_with_A[0].shape == (2,2)\n",
    "    assert result_with_A[1].shape == (2,2)\n",
    "\n",
    "     # non-square non-constant matrix case\n",
    "    result_with_B = gradient2D(B)\n",
    "    assert isinstance(result_with_B, tuple)\n",
    "    assert len(result_with_B) == 2\n",
    "    assert result_with_B[0].shape == (3,2)\n",
    "    assert result_with_B[1].shape == (3,2)\n",
    "\n",
    "    # square constant matrix case\n",
    "    result_with_C = gradient2D(C)\n",
    "    assert np.all(result_with_C[0] == 0)\n",
    "    assert np.all(result_with_C[1] == 0)\n",
    "\n",
    "    # non-square constant matrix case\n",
    "    result_with_D = gradient2D(D)\n",
    "    assert np.all(result_with_D[0] == 0)\n",
    "    assert np.all(result_with_D[1] == 0)\n",
    "\n",
    "ipytest.run(\"-k test_gradient2D\")\n"
   ],
   "outputs": [
    {
     "name": "stdout",
     "output_type": "stream",
     "text": [
      "\u001B[32m.\u001B[0m\u001B[32m.\u001B[0m\u001B[32m                                                                                           [100%]\u001B[0m\n",
      "\u001B[32m\u001B[32m\u001B[1m2 passed\u001B[0m, \u001B[33m2 deselected\u001B[0m\u001B[32m in 0.05s\u001B[0m\u001B[0m\n"
     ]
    },
    {
     "data": {
      "text/plain": [
       "<ExitCode.OK: 0>"
      ]
     },
     "execution_count": 130,
     "metadata": {},
     "output_type": "execute_result"
    }
   ],
   "execution_count": 130
  },
  {
   "cell_type": "markdown",
   "metadata": {},
   "source": "3\\. Document the function `gradient2D` with an appropriate docstring (see Lab 1)."
  },
  {
   "metadata": {},
   "cell_type": "markdown",
   "source": "Docstring created in Q1, with the numpy convention."
  },
  {
   "cell_type": "markdown",
   "metadata": {},
   "source": [
    "4\\. Using 1., define a function `tv` to compute $\\text{TV}(\\mathbf{X})$, $\\mathbf{X}\\in\\mathbb{C}^{M \\times N}$. Write a unit-test and document your function."
   ]
  },
  {
   "cell_type": "markdown",
   "metadata": {},
   "source": [
    "**Answer**:"
   ]
  },
  {
   "cell_type": "code",
   "metadata": {
    "ExecuteTime": {
     "end_time": "2025-09-22T16:15:28.607730Z",
     "start_time": "2025-09-22T16:15:28.535348Z"
    }
   },
   "source": [
    "def tv(X: np.ndarray) -> float:\n",
    "    \"\"\"\n",
    "    Compute the discrete isotropic total variation of a matrix.\n",
    "\n",
    "    The total variation is defined as:\n",
    "    TV(X) = sum_{m,n} sqrt(|[XD_h]_{m,n}|² + |[D_v X]_{m,n}|²)\n",
    "\n",
    "    where (XD_h, D_vX) is the discrete gradient operator computed by gradient2D.\n",
    "\n",
    "    Parameters\n",
    "    ----------\n",
    "    X : np.ndarray of shape (M, N)\n",
    "        Input 2D matrix (real or complex).\n",
    "\n",
    "    Returns\n",
    "    -------\n",
    "    float\n",
    "        The total variation value of matrix X.\n",
    "\n",
    "    Raises\n",
    "    ------\n",
    "    AssertionError\n",
    "        If X has more than 2 dimensions.\n",
    "    \"\"\"\n",
    "    XD_h, D_vX = gradient2D(X)\n",
    "    return np.sum(np.sqrt(np.abs(XD_h)**2 + np.abs(D_vX)**2))"
   ],
   "outputs": [],
   "execution_count": 131
  },
  {
   "metadata": {
    "ExecuteTime": {
     "end_time": "2025-09-22T16:15:31.784956Z",
     "start_time": "2025-09-22T16:15:30.968894Z"
    }
   },
   "cell_type": "code",
   "source": [
    "def test_tv():\n",
    "    A = np.array([[1+1j, 1-1j], [-1+1j, -1-1j], [1+2j, 1-2j]])\n",
    "    B = np.ones((2, 2))\n",
    "\n",
    "    # in that case : tv = sqrt(1² + 2²) + sqrt(0² + 2²) + sqrt(1² + 0²) + sqrt(0² + 0²)\n",
    "    C = np.array([[1, 2], [3, 4]])\n",
    "\n",
    "\n",
    "    result_with_A = tv(A)\n",
    "    assert isinstance(result_with_A, float)\n",
    "\n",
    "    result_with_B = tv(B)\n",
    "    assert result_with_B == 0. # because gradient_2d = (0, 0) in that case (B constant)\n",
    "\n",
    "    result_with_C = tv(C)\n",
    "    assert np.isclose(result_with_C, np.sqrt(5) + 3, atol=1e-2)\n",
    "\n",
    "\n",
    "ipytest.run(\"-k test_tv\")\n"
   ],
   "outputs": [
    {
     "name": "stdout",
     "output_type": "stream",
     "text": [
      "\u001B[32m.\u001B[0m\u001B[32m                                                                                            [100%]\u001B[0m\n",
      "\u001B[32m\u001B[32m\u001B[1m1 passed\u001B[0m, \u001B[33m3 deselected\u001B[0m\u001B[32m in 0.02s\u001B[0m\u001B[0m\n"
     ]
    },
    {
     "data": {
      "text/plain": [
       "<ExitCode.OK: 0>"
      ]
     },
     "execution_count": 132,
     "metadata": {},
     "output_type": "execute_result"
    }
   ],
   "execution_count": 132
  },
  {
   "cell_type": "markdown",
   "metadata": {},
   "source": "5\\. Implement a function `gradient2D_adjoint` to compute $D^*(\\mathbf{Y})$, the adjoint of the 2D discrete gradient operator $D$ applied to $\\mathbf{Y}\\in\\mathbb{C}^{M \\times N}\\times \\mathbb{C}^{M \\times N}$. Add a few short comments to explain your code whenever appropriate."
  },
  {
   "cell_type": "markdown",
   "metadata": {},
   "source": [
    "**Answer**:"
   ]
  },
  {
   "cell_type": "code",
   "metadata": {
    "ExecuteTime": {
     "end_time": "2025-09-22T16:15:34.899029Z",
     "start_time": "2025-09-22T16:15:34.819609Z"
    }
   },
   "source": [
    "def gradient2D_adjoint(Y: tuple[np.ndarray, np.ndarray]) -> np.ndarray:\n",
    "    \"\"\"\n",
    "    Compute the adjoint of the 2D gradient operator gradient2D.\n",
    "\n",
    "    Parameters\n",
    "    ----------\n",
    "    Y : tuple of np.ndarray of shape (M, N)\n",
    "\n",
    "    Returns\n",
    "    -------\n",
    "    np.ndarray\n",
    "        the adjoint of the 2D gradient operator.\n",
    "    \"\"\"\n",
    "    Y_h, Y_v = Y\n",
    "    m, n = Y_h.shape\n",
    "\n",
    "    # Y_h_D_h*\n",
    "    if n == 1:\n",
    "        Y_h_D_h_star = np.zeros_like(Y_h)\n",
    "    else:\n",
    "        first_col = -Y_h[:, 0:1]\n",
    "        if n > 2:\n",
    "            # compute -(Y[:, j] - Y[:, j-1]) for j=1..n-2\n",
    "            middle_cols = -(Y_h[:, 1:n-1] - Y_h[:, 0:n-2])\n",
    "            last_col = Y_h[:, n-2:n-1]\n",
    "            Y_h_D_h_star = np.c_[first_col, middle_cols, last_col]\n",
    "        else:  # n == 2\n",
    "            last_col = Y_h[:, 0:1]\n",
    "            Y_h_D_h_star = np.c_[first_col, last_col]\n",
    "\n",
    "    # D_v* Y_v\n",
    "    if m == 1:\n",
    "        D_v_star_Y_v = np.zeros_like(Y_v)\n",
    "    else:\n",
    "        first_row = -Y_v[0:1, :]\n",
    "        if m > 2:\n",
    "            # compute -(Y[i, :] - Y[i-1, :]) for i=1..m-2\n",
    "            middle_rows = -(Y_v[1:m-1, :] - Y_v[0:m-2, :])\n",
    "            last_row = Y_v[m-2:m-1, :]\n",
    "            D_v_star_Y_v = np.r_[first_row, middle_rows, last_row]\n",
    "        else:  # m == 2\n",
    "            last_row = Y_v[0:1, :]\n",
    "            D_v_star_Y_v = np.r_[first_row, last_row]\n",
    "\n",
    "    return Y_h_D_h_star + D_v_star_Y_v\n"
   ],
   "outputs": [],
   "execution_count": 133
  },
  {
   "cell_type": "markdown",
   "metadata": {},
   "source": [
    "6\\. Implement a unit-test to validate `gradient2D_adjoint`, e.g., by checking the size of the output from the function and verifying that `gradient2D_adjoint` is adjoint to `gradient2D`, i.e., for any $\\mathbf{X}\\in\\mathbb{C}^{M \\times N}$ and $\\mathbf{Y}\\in\\mathbb{C}^{M \\times N}\\times \\mathbb{C}^{M \\times N}$:\n",
    "\n",
    "\\begin{equation}\n",
    "    \\forall \\mathbf{X} \\in \\mathbb{C}^{M \\times N}, \\mathbf{Y} = (\\mathbf{Y}_h, \\mathbf{Y}_v) \\in \\mathbb{C}^{M \\times N} \\times \\mathbb{C}^{M \\times N}, \\;\n",
    "    %\n",
    "    \\langle D(\\mathbf{X}), \\mathbf{Y} \\rangle_{\\mathbb{C}^{M \\times N} \\times \\mathbb{C}^{M \\times N}} = \\langle \\mathbf{X}, D^*(\\mathbf{Y}) \\rangle_{\\mathbb{C}^{M \\times N}}, \n",
    "\\end{equation}\n",
    "\n",
    "where \n",
    "\n",
    "\\begin{align}\n",
    "    &\\forall \\mathbf{U}, \\mathbf{V} \\in \\mathbb{C}^{M \\times N}, \\; \\langle \\mathbf{U}, \\mathbf{V} \\rangle_{\\mathbb{C}^{M \\times N}} = \\text{Tr}(\\mathbf{U}^T \\mathbf{V}) = \\sum_{m=1}^M \\sum_{n=1}^N u_{m,n}^* v_{m,n}, \\\\\n",
    "    &\\forall \\mathbf{U} = (\\mathbf{U}_h, \\mathbf{U}_v), \\mathbf{V} = (\\mathbf{V}_h, \\mathbf{V}_v) \\in \\mathbb{C}^{M \\times N} \\times \\mathbb{C}^{M \\times N}, \\; \\langle \\mathbf{U}, \\mathbf{V} \\rangle_{\\mathbb{C}^{M \\times N} \\times \\mathbb{C}^{M \\times N}} = \\langle \\mathbf{U}_h, \\mathbf{V}_h \\rangle_{\\mathbb{C}^{M \\times N}} + \\langle \\mathbf{U}_v, \\mathbf{V}_v \\rangle_{\\mathbb{C}^{M \\times N}}.\n",
    "\\end{align}\n",
    "\n",
    "> Hint: to verify `gradient2D_adjoint` is the adjoint of `gradient2D`, evaluate the scalar products above for randomly drawn matrices. Set the random generator to a known state for reproducibility (see [Exercise 1](#ex1)).",
    "\n",
    "> `np.conj` is useful."
   ]
  },
  {
   "cell_type": "markdown",
   "metadata": {},
   "source": [
    "**Answer**:"
   ]
  },
  {
   "metadata": {
    "ExecuteTime": {
     "end_time": "2025-09-22T16:22:12.620633Z",
     "start_time": "2025-09-22T16:22:12.556115Z"
    }
   },
   "cell_type": "code",
   "source": [
    "def compute_matrices_scalar_product(U: np.ndarray, V: np.ndarray) -> complex:\n",
    "    \"\"\"\n",
    "    Compute the Hermitian inner product of two matrices.\n",
    "\n",
    "    <U, V> = trace(conj(U^T) × V) = sum(conj(U) * V)\n",
    "\n",
    "    Parameters\n",
    "    ----------\n",
    "    U : np.ndarray of shape (M, N)\n",
    "        Input 2D matrix (real or complex).\n",
    "    V : np.ndarray of shape (M, N)\n",
    "        Input 2D matrix (real or complex).\n",
    "\n",
    "    Returns\n",
    "    -------\n",
    "    complex\n",
    "        The Hermitian inner product of U and V.\n",
    "\n",
    "    Raises\n",
    "    ------\n",
    "    AssertionError\n",
    "        If U and V have different shapes or are not 2D.\n",
    "    \"\"\"\n",
    "    if len(U.shape) != 2 or len(V.shape) != 2:\n",
    "        raise AssertionError(\"U and V must be 2D\")\n",
    "    if U.shape != V.shape:\n",
    "        raise AssertionError(\"U and V must be the same shape\")\n",
    "\n",
    "    return np.sum(np.conj(U) * V)\n",
    "\n",
    "\n",
    "def compute_scalar_product_with_grad_adjoint(X: np.ndarray, Y: tuple[np.ndarray, np.ndarray]) -> complex:\n",
    "    \"\"\"\n",
    "    Compute <X, D*(Y)> where D* is the adjoint of the 2D gradient operator.\n",
    "\n",
    "    Parameters\n",
    "    ----------\n",
    "    X : np.ndarray of shape (M, N)\n",
    "        Input 2D matrix (real or complex).\n",
    "    Y : tuple of np.ndarray of shape (M, N)\n",
    "        Tuple containing (Y_h, Y_v) components.\n",
    "\n",
    "    Returns\n",
    "    -------\n",
    "    complex\n",
    "        The Hermitian inner product <X, D*(Y)>.\n",
    "    \"\"\"\n",
    "    grad_adjoint = gradient2D_adjoint(Y)\n",
    "    return compute_matrices_scalar_product(X, grad_adjoint)\n",
    "\n",
    "\n",
    "def compute_scalar_product_with_grad(X: np.ndarray, Y: tuple[np.ndarray, np.ndarray]) -> complex:\n",
    "    \"\"\"\n",
    "    Compute <D(X), Y> where D is the 2D gradient operator.\n",
    "\n",
    "    Parameters\n",
    "    ----------\n",
    "    X : np.ndarray of shape (M, N)\n",
    "        Input 2D matrix (real or complex).\n",
    "    Y : tuple of np.ndarray of shape (M, N)\n",
    "        Tuple containing (Y_h, Y_v) components.\n",
    "\n",
    "    Returns\n",
    "    -------\n",
    "    complex\n",
    "        The Hermitian inner product <D(X), Y>.\n",
    "    \"\"\"\n",
    "    XD_h, D_vX = gradient2D(X)\n",
    "    Y_h, Y_v = Y\n",
    "\n",
    "    scalar_h = compute_matrices_scalar_product(XD_h, Y_h)\n",
    "    scalar_v = compute_matrices_scalar_product(D_vX, Y_v)\n",
    "    return scalar_h + scalar_v"
   ],
   "outputs": [],
   "execution_count": 137
  },
  {
   "metadata": {
    "ExecuteTime": {
     "end_time": "2025-09-22T16:22:13.034179Z",
     "start_time": "2025-09-22T16:22:12.954108Z"
    }
   },
   "cell_type": "code",
   "source": [
    "random_seed = 261760519584560275253684893175904508885 # same seed as above\n",
    "rng = np.random.default_rng(seed=random_seed)\n"
   ],
   "outputs": [],
   "execution_count": 138
  },
  {
   "metadata": {
    "ExecuteTime": {
     "end_time": "2025-09-22T16:22:37.131Z",
     "start_time": "2025-09-22T16:22:36.158685Z"
    }
   },
   "cell_type": "code",
   "source": [
    "def test_gradient2D_adjoint():\n",
    "    for m in range(1, 4):\n",
    "        for n in range(1, 4):\n",
    "            X = rng.random((m, n)) + 1j * rng.random((m, n))\n",
    "\n",
    "            Y_h = rng.random((m, n)) + 1j * rng.random((m, n))\n",
    "            Y_v = rng.random((m, n)) + 1j * rng.random((m, n))\n",
    "            Y = (Y_h, Y_v)\n",
    "\n",
    "            scalar_with_grad = compute_scalar_product_with_grad(X, Y)\n",
    "            scalar_with_adjoint = compute_scalar_product_with_grad_adjoint(X, Y)\n",
    "\n",
    "            assert isinstance(scalar_with_grad, complex)\n",
    "            assert isinstance(scalar_with_adjoint, complex)\n",
    "            assert np.allclose(scalar_with_grad, scalar_with_adjoint)\n",
    "\n",
    "\n",
    "ipytest.run(\"-k test_gradient2D_adjoint\")\n"
   ],
   "outputs": [
    {
     "name": "stdout",
     "output_type": "stream",
     "text": [
      "\u001B[32m.\u001B[0m\u001B[32m                                                                                            [100%]\u001B[0m\n",
      "\u001B[32m\u001B[32m\u001B[1m1 passed\u001B[0m, \u001B[33m3 deselected\u001B[0m\u001B[32m in 0.03s\u001B[0m\u001B[0m\n"
     ]
    },
    {
     "data": {
      "text/plain": [
       "<ExitCode.OK: 0>"
      ]
     },
     "execution_count": 140,
     "metadata": {},
     "output_type": "execute_result"
    }
   ],
   "execution_count": 140
  },
  {
   "cell_type": "markdown",
   "metadata": {},
   "source": [
    "[Bonus, **optional**]. Generalize the `gradient2D` to any number of dimensions ($\\mathbf{X} \\in \\mathbb{C}^{N_1 \\times N_2 \\times \\dotsc \\times N_p}$), i.e., by returning tensors obtained by computing differences along each of its dimensions.\n",
    "> Hint: \n",
    "> - you may use a loops here, and/or list comprehension. Using slice objects (see [np.s_](https://numpy.org/doc/stable/reference/generated/numpy.s_.html?highlight=s_#numpy.s_) and [this page](https://stackoverflow.com/questions/24432209/python-index-an-array-using-the-colon-operator-in-an-arbitrary-dimension)) can be an interesting option.\n",
    ">\n",
    "> - the definition of the scalar product above can be extended to the case of tensors as follows:\n",
    "\\begin{equation}\n",
    "    \\mathbf{U}, \\mathbf{V} \\in \\mathbb{C}^{N_1 \\times N_2 \\times \\dotsc \\times N_p}, \\; \\langle \\mathbf{U}, \\mathbf{V} \\rangle_{\\mathbb{C}^{N_1 \\times N_2 \\times \\dotsc \\times N_p}} =  \\sum_{n_1 = 1}^{N_1}  \\sum_{n_2 = 1}^{N_2} \\dotsc \\sum_{n_p = 1}^{N_p} u_{n_1, n_2, \\dotsc, n_p}^* v_{n_1, n_2, \\dotsc, n_p}   \n",
    "\\end{equation}"
   ]
  },
  {
   "cell_type": "markdown",
   "metadata": {},
   "source": [
    "**Answer**:"
   ]
  },
  {
   "cell_type": "code",
   "metadata": {
    "ExecuteTime": {
     "end_time": "2025-09-22T16:43:03.164216Z",
     "start_time": "2025-09-22T16:43:03.084325Z"
    }
   },
   "source": [
    "def gradientND(X: np.ndarray) -> List[np.ndarray]:\n",
    "    \"\"\"\n",
    "    Compute N-dimensional gradient\n",
    "\n",
    "    Parameters\n",
    "    ----------\n",
    "    X : np.ndarray of shape (N1, ..., Np)\n",
    "\n",
    "    Returns\n",
    "    -------\n",
    "        List[np.ndarray]\n",
    "    \"\"\"\n",
    "    gradients = []\n",
    "\n",
    "    for axis in range(X.ndim):\n",
    "        diff_result = np.diff(X, axis=axis)\n",
    "\n",
    "        padding_shape = list(X.shape)\n",
    "        padding_shape[axis] = 1\n",
    "        zeros = np.zeros(padding_shape)\n",
    "\n",
    "        gradient_axis = np.concatenate([diff_result, zeros], axis=axis)\n",
    "        gradients.append(gradient_axis)\n",
    "\n",
    "    return gradients\n",
    "\n"
   ],
   "outputs": [],
   "execution_count": 149
  },
  {
   "metadata": {
    "ExecuteTime": {
     "end_time": "2025-09-22T16:46:52.964605Z",
     "start_time": "2025-09-22T16:46:51.995091Z"
    }
   },
   "cell_type": "code",
   "source": [
    "def test_gradientND():\n",
    "    for m in range(1, 5):\n",
    "        for n in range(1, 5):\n",
    "            for d in range(1, 5):\n",
    "                A = np.ones((m, n, d))\n",
    "\n",
    "                result = gradientND(A)\n",
    "                assert isinstance(result, list)\n",
    "                assert len(result) == 3\n",
    "                assert result[0].shape == (m, n)\n",
    "                assert result[1].shape == (m, n)\n",
    "                assert result[1].shape == (m, n)\n",
    "\n",
    "\n",
    "ipytest.run(\"-k test_gradientND_with_gradient2D_test\")\n"
   ],
   "outputs": [
    {
     "name": "stdout",
     "output_type": "stream",
     "text": [
      "\u001B[32m.\u001B[0m\u001B[32m                                                                                            [100%]\u001B[0m\n",
      "\u001B[32m\u001B[32m\u001B[1m1 passed\u001B[0m, \u001B[33m5 deselected\u001B[0m\u001B[32m in 0.03s\u001B[0m\u001B[0m\n"
     ]
    },
    {
     "data": {
      "text/plain": [
       "<ExitCode.OK: 0>"
      ]
     },
     "execution_count": 151,
     "metadata": {},
     "output_type": "execute_result"
    }
   ],
   "execution_count": 151
  },
  {
   "metadata": {},
   "cell_type": "code",
   "outputs": [],
   "execution_count": null,
   "source": ""
  },
  {
   "cell_type": "markdown",
   "metadata": {},
   "source": [
    "## Reference\n",
    "\n",
    "```bibtex\n",
    "@article{condat:hal-01309685,\n",
    "  TITLE = {{Discrete Total Variation: New Definition and Minimization}},\n",
    "  AUTHOR = {Condat, Laurent},\n",
    "  URL = {https://hal.archives-ouvertes.fr/hal-01309685},\n",
    "  JOURNAL = {{SIAM Journal on Imaging Sciences}},\n",
    "  PUBLISHER = {{Society for Industrial and Applied Mathematics}},\n",
    "  VOLUME = {10},\n",
    "  NUMBER = {3},\n",
    "  PAGES = {1258--1290},\n",
    "  YEAR = {2017},\n",
    "  MONTH = Aug,\n",
    "  DOI = {10.1137/16M1075247},\n",
    "  KEYWORDS = { variational image processing ; total variation ;  finite-difference schemes ;  coarea formula},\n",
    "  PDF = {https://hal.archives-ouvertes.fr/hal-01309685v3/file/Condat-newTV.pdf},\n",
    "  HAL_ID = {hal-01309685},\n",
    "  HAL_VERSION = {v3},\n",
    "}\n",
    "```\n"
   ]
  }
 ],
 "metadata": {
  "kernelspec": {
   "display_name": "Python 3 (ipykernel)",
   "language": "python",
   "name": "python3"
  },
  "language_info": {
   "codemirror_mode": {
    "name": "ipython",
    "version": 3
   },
   "file_extension": ".py",
   "mimetype": "text/x-python",
   "name": "python",
   "nbconvert_exporter": "python",
   "pygments_lexer": "ipython3",
   "version": "3.8.10"
  },
  "vscode": {
   "interpreter": {
    "hash": "916dbcbb3f70747c44a77c7bcd40155683ae19c65e1c03b4aa3499c5328201f1"
   }
  }
 },
 "nbformat": 4,
 "nbformat_minor": 4
}
