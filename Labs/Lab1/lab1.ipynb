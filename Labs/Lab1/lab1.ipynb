{
 "cells": [
  {
   "metadata": {},
   "cell_type": "markdown",
   "source": [
    "# Practical session 1 - Some Python basics\n",
    "\n",
    "Students (pair):- [Student 1]([link](https://github.com/username1))\n",
    "- [Student 2]([link](https://github.com/username2))"
   ]
  },
  {
   "metadata": {},
   "cell_type": "markdown",
   "source": [
    "```\n",
    "conda create --name=lab1 --file=requirement.txt \n",
    "conda activate lab1\n",
    "# do not forget to deactivate the environment if needed\n",
    "# you can remove the environment once you are done\n",
    "conda env remove --name=lab1\n",
    "```"
   ]
  },
  {
   "metadata": {},
   "cell_type": "code",
   "outputs": [],
   "execution_count": null,
   "source": [
    "%load_ext autoreload\n",
    "%autoreload 2"
   ]
  },
  {
   "metadata": {},
   "cell_type": "markdown",
   "source": ""
  },
  {
   "metadata": {},
   "cell_type": "markdown",
   "source": "## Zen of Python\n"
  },
  {
   "metadata": {},
   "cell_type": "code",
   "outputs": [],
   "execution_count": null,
   "source": [
    "from typing import List\n",
    "import unittest"
   ]
  },
  {
   "metadata": {},
   "cell_type": "markdown",
   "source": "## Reserved keywords\n"
  },
  {
   "metadata": {},
   "cell_type": "code",
   "outputs": [],
   "execution_count": null,
   "source": [
    "import keyword\n",
    "print(keyword.kwlist)"
   ]
  },
  {
   "metadata": {},
   "cell_type": "markdown",
   "source": "## Arithmetic"
  },
  {
   "metadata": {},
   "cell_type": "markdown",
   "source": "Compute 4 raised to the power 8"
  },
  {
   "metadata": {},
   "cell_type": "code",
   "outputs": [],
   "execution_count": null,
   "source": "4 ** 8"
  },
  {
   "metadata": {},
   "cell_type": "markdown",
   "source": "Compute the quotient and the remainder of the euclidean division of 17 by 3."
  },
  {
   "metadata": {},
   "cell_type": "code",
   "outputs": [],
   "execution_count": null,
   "source": [
    "quotient = 17 // 3\n",
    "remainder = 17 % 3\n",
    "print(f\"quotient : {quotient}, remainder : {remainder}\")"
   ]
  },
  {
   "metadata": {},
   "cell_type": "markdown",
   "source": "Create two integer variables `a, b` of your choice and swap their content."
  },
  {
   "metadata": {},
   "cell_type": "code",
   "outputs": [],
   "execution_count": null,
   "source": [
    "a = 3\n",
    "b = 5\n",
    "print(\"a =\", a, \" b =\", b)\n",
    "\n",
    "a, b = b, a\n",
    "print(\"a =\", a, \" b =\", b)"
   ]
  },
  {
   "metadata": {},
   "cell_type": "markdown",
   "source": "Modify `a` inplace, so that the new value of `a` is twice its previous value."
  },
  {
   "metadata": {},
   "cell_type": "code",
   "outputs": [],
   "execution_count": null,
   "source": [
    "a *= 2\n",
    "print(f\"new a = {a}\")"
   ]
  },
  {
   "metadata": {},
   "cell_type": "markdown",
   "source": [
    "Define a complex number `z` object and print it as\n",
    "\n",
    "`(real=z.real, imag=z.imaginary)`"
   ]
  },
  {
   "metadata": {},
   "cell_type": "code",
   "outputs": [],
   "execution_count": null,
   "source": [
    "z = 5 + 2j\n",
    "print(f\"z={z}\")\n",
    "print(f\"(real={z.real}, imag={z.imag})\")"
   ]
  },
  {
   "metadata": {},
   "cell_type": "markdown",
   "source": "## Strings\n"
  },
  {
   "metadata": {},
   "cell_type": "markdown",
   "source": "Propose two ways to define an empty string"
  },
  {
   "metadata": {},
   "cell_type": "code",
   "outputs": [],
   "execution_count": null,
   "source": [
    "s = str()\n",
    "print(f\"A first way to define a string : s = {s}\")\n",
    "\n",
    "s = \"\"\n",
    "print(f\"A second way to define a string : s = {s}\")"
   ]
  },
  {
   "metadata": {},
   "cell_type": "markdown",
   "source": [
    "Define a string made of the 26 letters of the alphabet (lower case), then\n",
    "- What is the 12th letter of the alphabet\n",
    "- What are the 10 last letters of the alphabet\n",
    "- What are the 5th to the 10th letters of the alphabet\n",
    "- Create a new string where the 26 letters are converted to upper case."
   ]
  },
  {
   "metadata": {},
   "cell_type": "code",
   "outputs": [],
   "execution_count": null,
   "source": [
    "# We know that ascii code for letter A is 65\n",
    "alphabet = \"\".join([chr(i) for i in range(65, 65 + 26)]).lower()\n",
    "alphabet\n",
    "\n"
   ]
  },
  {
   "metadata": {},
   "cell_type": "code",
   "outputs": [],
   "execution_count": null,
   "source": [
    "print(f\"12 letter of the alphabet is : {alphabet[11]}\")\n",
    "\n",
    "last_letters = alphabet[-10:]\n",
    "print(f\"{len(last_letters)} last letters of the alphabet are : {last_letters}\")\n",
    "\n",
    "range_letters = alphabet[4: 9]\n",
    "print(f\"5th to the {5 + len(range_letters)}th letters of the alphabet are : {range_letters}\")"
   ]
  },
  {
   "metadata": {},
   "cell_type": "code",
   "outputs": [],
   "execution_count": null,
   "source": [
    "alphabet_uppercase = alphabet.upper()\n",
    "alphabet_uppercase"
   ]
  },
  {
   "metadata": {},
   "cell_type": "markdown",
   "source": "Extract the first 4 digits of the number `x = 2341324530045968` (answer is `2341`)."
  },
  {
   "metadata": {},
   "cell_type": "code",
   "outputs": [],
   "execution_count": null,
   "source": "x = 2341324530045968"
  },
  {
   "metadata": {},
   "cell_type": "code",
   "outputs": [],
   "execution_count": null,
   "source": [
    "first_four_digits = str(x)[:4]\n",
    "\n",
    "print(first_four_digits == \"2341\")\n",
    "\n"
   ]
  },
  {
   "metadata": {},
   "cell_type": "markdown",
   "source": "## Lists"
  },
  {
   "metadata": {},
   "cell_type": "markdown",
   "source": "Propose two ways to define an empty list."
  },
  {
   "metadata": {},
   "cell_type": "code",
   "outputs": [],
   "execution_count": null,
   "source": [
    "l1= []\n",
    "l2 = list()\n",
    "print(l1,l2)"
   ]
  },
  {
   "metadata": {},
   "cell_type": "markdown",
   "source": "Create the list of consecutive integers from 5 to 11."
  },
  {
   "metadata": {},
   "cell_type": "code",
   "outputs": [],
   "execution_count": null,
   "source": [
    "l = [i for i in range(5, 12)]\n",
    "print(l)"
   ]
  },
  {
   "metadata": {},
   "cell_type": "markdown",
   "source": "Add `100` to this list."
  },
  {
   "metadata": {},
   "cell_type": "code",
   "outputs": [],
   "execution_count": null,
   "source": "l.append(100)"
  },
  {
   "metadata": {},
   "cell_type": "code",
   "outputs": [],
   "execution_count": null,
   "source": "l"
  },
  {
   "metadata": {},
   "cell_type": "markdown",
   "source": [
    "Given the following list, \n",
    "Change the `\"sdia\"` to its reverse (`\"aids\"`)."
   ]
  },
  {
   "metadata": {},
   "cell_type": "code",
   "outputs": [],
   "execution_count": null,
   "source": "x = [10, [3, 4], [5, [100, 200, [\"sdia\"]], 23, 11], 1, 7]"
  },
  {
   "metadata": {},
   "cell_type": "code",
   "outputs": [],
   "execution_count": null,
   "source": [
    "x[2][1][2][0]=\"aids\"\n",
    "x"
   ]
  },
  {
   "metadata": {},
   "cell_type": "markdown",
   "source": [
    "Given the following list, \n",
    "\n",
    "  1. extract the first two items\n",
    "  2. extract the last two items\n",
    "  3. find the index of the first occurence of `9`\n",
    "  4. extract the items located at odd indices\n",
    "  5. create a new list which corresponds to the reversed version of the originial list\n",
    "  6. create a new list where each item of the original list is raised to the power 3"
   ]
  },
  {
   "metadata": {},
   "cell_type": "code",
   "outputs": [],
   "execution_count": null,
   "source": "x=[3, 7, 5, 3, 8, 6, 8, 8, 0, 7, 3, 9, 3, 4, 2, 7, 0, 9, 5, 0, 0, 9, 0, 9, 3, 1, 4, 0, 5, 5, 5, 8, 9, 9, 5, 5, 4, 9, 5, 6, 2, 8, 5, 2, 4, 9, 2, 2, 3, 1]\n"
  },
  {
   "metadata": {},
   "cell_type": "code",
   "outputs": [],
   "execution_count": null,
   "source": [
    "first_two = x[:2]\n",
    "print(f\"First two items : {first_two}\")\n",
    "\n",
    "last_two = x[-2:]\n",
    "print(f\"Last two items : {last_two}\")\n",
    "\n",
    "index_first_nine = x.index(9)\n",
    "print(f\"First 9 at index : {index_first_nine}\")\n",
    "\n",
    "items_at_odd_indices = x[1::2]\n",
    "print(f\"Items at odd indices : {items_at_odd_indices}\")\n",
    "\n",
    "reversed_list = list(reversed(x))\n",
    "print(f\"Reversed list x : {reversed_list}\")\n",
    "\n",
    "mapped_list = [ele ** 3 for ele in x]\n",
    "print(f\"New list : {mapped_list}\")\n",
    "\n"
   ]
  },
  {
   "metadata": {},
   "cell_type": "markdown",
   "source": "## Tuples"
  },
  {
   "metadata": {},
   "cell_type": "markdown",
   "source": [
    "\n",
    "Propose two ways to define an empty tuple."
   ]
  },
  {
   "metadata": {},
   "cell_type": "code",
   "outputs": [],
   "execution_count": null,
   "source": [
    "t = tuple()\n",
    "print(f\"A first way to define a tuple : t = {t}\")\n",
    "\n",
    "t = ()\n",
    "print(f\"A second way to define a dictionary : t = {t}\")"
   ]
  },
  {
   "metadata": {},
   "cell_type": "markdown",
   "source": [
    "Given the following tuple\n",
    "- try to replace the second item (`4`) to `8`.\n",
    "- modify the list so that the second element of the first item is raised to the power 5 "
   ]
  },
  {
   "metadata": {},
   "cell_type": "markdown",
   "source": "x = ([1, 2, 3], 4)"
  },
  {
   "metadata": {},
   "cell_type": "code",
   "outputs": [],
   "execution_count": null,
   "source": [
    "try:\n",
    "    x[1] = 8\n",
    "except TypeError as e:\n",
    "    print(f\"Error with tuple use : {e}\")\n"
   ]
  },
  {
   "metadata": {},
   "cell_type": "code",
   "outputs": [],
   "execution_count": null,
   "source": [
    "try:\n",
    "    x[0][1] = 2 ** 5\n",
    "except TypeError as e:\n",
    "    print(f\"Error with tuple use : {e}\")\n",
    "else:\n",
    "    print(f\"New tuple : {x}\")\n"
   ]
  },
  {
   "metadata": {},
   "cell_type": "markdown",
   "source": "What is the main difference between a list and a tuple?"
  },
  {
   "metadata": {},
   "cell_type": "markdown",
   "source": [
    "From these tests we can see that :\n",
    "- A list is mutable.\n",
    "- A tuple is imutable."
   ]
  },
  {
   "metadata": {},
   "cell_type": "markdown",
   "source": "## Sets"
  },
  {
   "metadata": {},
   "cell_type": "markdown",
   "source": "Create an empty set"
  },
  {
   "metadata": {},
   "cell_type": "code",
   "outputs": [],
   "execution_count": null,
   "source": "empty = set()"
  },
  {
   "metadata": {},
   "cell_type": "markdown",
   "source": "Compute the intersection between $A = \\{1, 2, 3\\}$ and $B = \\{2, 4, 5, 6\\}$."
  },
  {
   "metadata": {},
   "cell_type": "code",
   "outputs": [],
   "execution_count": null,
   "source": [
    "A = set((1, 2, 3))\n",
    "B = set((2, 4, 5, 6))\n",
    "\n",
    "intersection: set = A & B\n",
    "print(f\"Intersection between A and B : {intersection}\")"
   ]
  },
  {
   "metadata": {},
   "cell_type": "markdown",
   "source": [
    "From the following set\n",
    "- add the numbers 4, 5, 6\n",
    "- remove the numbers 1, 2, 3\n",
    "- check if the resulting set is contained in `{1, 2, 4, 5, 6, 10}` "
   ]
  },
  {
   "metadata": {},
   "cell_type": "code",
   "outputs": [],
   "execution_count": null,
   "source": "x = {0, 1, 2, 3, 6, 7, 8, 9, 10}"
  },
  {
   "metadata": {},
   "cell_type": "code",
   "outputs": [],
   "execution_count": null,
   "source": [
    "x_with_new_elements = x | {4, 5, 6}\n",
    "print(f\"First question : {x_with_new_elements}\")\n",
    "print(len(x_with_new_elements) == len(x) + 2) # because 6 already in x"
   ]
  },
  {
   "metadata": {},
   "cell_type": "code",
   "outputs": [],
   "execution_count": null,
   "source": [
    "x_final = x_with_new_elements - {1, 2, 3}\n",
    "print(f\"Second question : {x_final}\")\n",
    "print(len(x_final) == len(x_with_new_elements) - 3)"
   ]
  },
  {
   "metadata": {},
   "cell_type": "code",
   "outputs": [],
   "execution_count": null,
   "source": [
    "check_assertion = x_final in {1, 2, 4, 5, 6, 10}\n",
    "\n",
    "print(f\"L'assertion est {check_assertion}\") # for example, 0 not included"
   ]
  },
  {
   "metadata": {},
   "cell_type": "markdown",
   "source": "## Dictionnaries"
  },
  {
   "metadata": {},
   "cell_type": "markdown",
   "source": "Propose two ways to define an empty dictionary"
  },
  {
   "metadata": {},
   "cell_type": "code",
   "outputs": [],
   "execution_count": null,
   "source": [
    "d = dict()\n",
    "print(f\"A first way to define a dictionary : d = {d}\")\n",
    "\n",
    "d = {}\n",
    "print(f\"A second way to define a dictionary : d = {d}\")"
   ]
  },
  {
   "metadata": {},
   "cell_type": "markdown",
   "source": [
    "Propose at least 3 ways to define a dictionary with \n",
    "- keys `(\"a\", \"b\", \"c\", \"d\")`\n",
    "- values `(1, 3, 5 , 7)`"
   ]
  },
  {
   "metadata": {},
   "cell_type": "code",
   "outputs": [],
   "execution_count": null,
   "source": [
    "keys = (\"a\", \"b\", \"c\", \"d\")\n",
    "values = (1, 3, 5, 7)"
   ]
  },
  {
   "metadata": {},
   "cell_type": "code",
   "outputs": [],
   "execution_count": null,
   "source": [
    "d = dict(a=1, b=3, c=5, d=7)\n",
    "print(f\"First way : d = {d}\")\n",
    "\n",
    "d = {key: value for key, value in zip(keys, values)}\n",
    "print(f\"Second way : d = {d}\")\n",
    "\n",
    "d = dict(map(lambda item: (item[1], 2*item[0] + 1), enumerate(keys)))\n",
    "print(f\"Third way : d = {d}\")\n"
   ]
  },
  {
   "metadata": {},
   "cell_type": "markdown",
   "source": "Given the following dictionary, use indexing to get to the word `\"sdia\"`"
  },
  {
   "metadata": {},
   "cell_type": "code",
   "outputs": [],
   "execution_count": null,
   "source": [
    "d = {\n",
    "    \"outer\": [\n",
    "        1,\n",
    "        2,\n",
    "        3,\n",
    "        {\"inner\": [\"this\", \"is\", \"inception\", {\"inner_inner\": [1, 2, 3, \"sdia\"]}]},\n",
    "    ]\n",
    "}"
   ]
  },
  {
   "metadata": {},
   "cell_type": "code",
   "outputs": [],
   "execution_count": null,
   "source": [
    "sdia = d[\"outer\"][3][\"inner\"][3][\"inner_inner\"][3]\n",
    "print(f\"Here is sdia : {sdia}\")"
   ]
  },
  {
   "metadata": {},
   "cell_type": "markdown",
   "source": [
    "From the following dictionary,\n",
    "- Create the list of keys\n",
    "- Create the list of values\n",
    "- Check if the key `\"abc\"` is present, if not, return `123`.\n",
    "- Merge the initial dictionary with `{\"e\": -1, 4: True}`"
   ]
  },
  {
   "metadata": {},
   "cell_type": "code",
   "outputs": [],
   "execution_count": null,
   "source": [
    "d1 = dict(zip([(0, 1), \"e\", 1, None], [\"abc\", 4, None, 1 + 2j]))\n",
    "d1"
   ]
  },
  {
   "metadata": {},
   "cell_type": "code",
   "outputs": [],
   "execution_count": null,
   "source": [
    "keys = list(d1.keys())\n",
    "print(f\"List of keys : {keys}\")\n",
    "\n",
    "values = list(d1.values())\n",
    "print(f\"List of values : {values}\")"
   ]
  },
  {
   "metadata": {},
   "cell_type": "code",
   "outputs": [],
   "execution_count": null,
   "source": [
    "def check_abc(d: dict) -> str | bool:\n",
    "    \"\"\"\n",
    "    Check if abc in keys of dict d.\n",
    "\n",
    "    Parameters\n",
    "    ----------\n",
    "    d : dict\n",
    "\n",
    "    Returns\n",
    "    -------\n",
    "    str | bool\n",
    "        True if \"abc\" in keys,\n",
    "        \"123\" otherwise.\n",
    "    \"\"\"\n",
    "    keys = list(d.keys())\n",
    "    if \"abc\" in keys:\n",
    "        return True\n",
    "    return \"123\"\n",
    "\n",
    "check_abc(d1)\n"
   ]
  },
  {
   "metadata": {},
   "cell_type": "code",
   "outputs": [],
   "execution_count": null,
   "source": [
    "other_d = {\"e\": -1, 4: True}\n",
    "\n",
    "d1.update(other_d)\n",
    "print(f\"New dictionary : {d1}\")\n",
    "print(\"The second dictionary has priority.\")\n"
   ]
  },
  {
   "metadata": {},
   "cell_type": "markdown",
   "source": "## Conditions"
  },
  {
   "metadata": {},
   "cell_type": "markdown",
   "source": "Propose two ways to construct the list of odd values ranging from 0 to 30"
  },
  {
   "metadata": {},
   "cell_type": "code",
   "outputs": [],
   "execution_count": null,
   "source": [
    "l=[]\n",
    "for i in range(1,31):\n",
    "    if i%2==1:\n",
    "        l.append(i)\n",
    "print(l)"
   ]
  },
  {
   "metadata": {},
   "cell_type": "code",
   "outputs": [],
   "execution_count": null,
   "source": [
    "l = list(range(1, 31, 2))\n",
    "print(l)"
   ]
  },
  {
   "metadata": {},
   "cell_type": "markdown",
   "source": [
    "From the following list, create another list which contains\n",
    "- `\"fiz\"` if the item is a multiple of 5,\n",
    "- `\"buz\"` if the item is a multiple of 7,\n",
    "- `\"fizbuz\"` if the item is a both a multiple of 5 and 7,\n",
    "- the index of the item otherwise."
   ]
  },
  {
   "metadata": {},
   "cell_type": "code",
   "outputs": [],
   "execution_count": null,
   "source": "x = [2, 1, 3, 31, 35, 20, 70, 132, 144, 49]"
  },
  {
   "metadata": {},
   "cell_type": "markdown",
   "source": [
    "Given a string variable `course`, construct a `if/elif/else` statement that prints:\n",
    "- `\"That is very useful!\"` if `course` is `\"maths\"` (any kind of capitalization)\n",
    "- `\"That is very useful!\"` if `course` is `\"python\"` (any kind of capitalization)\n",
    "- `\"How nice!\"` if `course` is `\"meditation\"` (any kind of capitalization)\n",
    "- `\"You're not at Hogwarts\"` if `course` is `\"magic\"` (any kind of capitalization)\n",
    "- otherwise `\"What is this COURSE?\"` if `course` is anything else."
   ]
  },
  {
   "metadata": {},
   "cell_type": "code",
   "outputs": [],
   "execution_count": null,
   "source": [
    "course = \"Maths\"\n",
    "if course.lower() == \"maths\":\n",
    "    print(\"That is very useful!\")\n",
    "elif course.lower() == \"python\":\n",
    "    print(\"That is very useful!\")\n",
    "elif course.lower() == \"meditation\":\n",
    "    print(\"How nice!\")\n",
    "elif course.lower() == \"magic\":\n",
    "    print(\"You're not at Hogwarts\")\n",
    "else:\n",
    "    print(f\"What is this {course}?\")"
   ]
  },
  {
   "metadata": {},
   "cell_type": "markdown",
   "source": [
    "Given the following variables, create and print the string\n",
    "\n",
    "``quantity`` ``fruit``(s) cost(s) $``price``\n",
    "\n",
    "such that\n",
    "- there is an `\"s\"` at `\"cost\"` when there is more only one fruit,\n",
    "- there is an `\"s\"` at `\"fruit\"` when there is more that one fruit,\n",
    "- the price is displayed as ...,xxx,xxx.yy where yy corresponds rounded cents value"
   ]
  },
  {
   "metadata": {},
   "cell_type": "code",
   "outputs": [],
   "execution_count": null,
   "source": [
    "quantity = 1\n",
    "fruit = \"avocado\"\n",
    "price = 1.8912392e4"
   ]
  },
  {
   "metadata": {},
   "cell_type": "code",
   "outputs": [],
   "execution_count": null,
   "source": [
    "fruit_str = fruit + (\"s\" if quantity > 1 else \"\")\n",
    "\n",
    "cost_str = \"cost\" + (\"s\" if quantity == 1 else \"\")\n",
    "\n",
    "price_str = f\"{price:,.2f}\"\n",
    "\n",
    "\n",
    "result = f\"{quantity} {fruit_str} {cost_str} ${price_str}\"\n",
    "print(result)\n"
   ]
  },
  {
   "metadata": {},
   "cell_type": "markdown",
   "source": "## Functions"
  },
  {
   "metadata": {},
   "cell_type": "markdown",
   "source": "Define the function `is_unique(x)` which takes a list of integers `x` as input and returns `True` if the there is no duplicate items otherwise return `False`."
  },
  {
   "metadata": {},
   "cell_type": "code",
   "outputs": [],
   "execution_count": null,
   "source": [
    "def is_unique(x: List[int]) -> bool:\n",
    "    \"\"\"\n",
    "    Check if the list contains no duplicate.\n",
    "\n",
    "    Parameters\n",
    "    ----------\n",
    "    x: List[int]\n",
    "\n",
    "    Returns\n",
    "    -------\n",
    "        bool\n",
    "    \"\"\"\n",
    "    return len(x) == len(set(x))\n",
    "\n"
   ]
  },
  {
   "metadata": {},
   "cell_type": "markdown",
   "source": [
    "Define a function `triangle_shape(height)`, that returns \n",
    "- `\"\"` if `height=0`, \n",
    "- otherwise it returns a string that forms a triangle with height prescribed by `height`.\n",
    "\n",
    "**Examples**\n",
    "\n",
    "height=1\n",
    "```\n",
    "x\n",
    "```\n",
    "\n",
    "height=2\n",
    "```\n",
    " x \n",
    "xxx\n",
    "```\n",
    "\n",
    "height=3\n",
    "```\n",
    "  x  \n",
    " xxx \n",
    "xxxxx\n",
    "```\n",
    "\n",
    "height=4\n",
    "```\n",
    "   x   \n",
    "  xxx  \n",
    " xxxxx \n",
    "xxxxxxx\n",
    "```\n",
    "\n",
    "height=5\n",
    "```\n",
    "    x    \n",
    "   xxx   \n",
    "  xxxxx  \n",
    " xxxxxxx \n",
    "xxxxxxxxx\n",
    "```\n",
    "\n",
    "height=6\n",
    "```\n",
    "     x     \n",
    "    xxx    \n",
    "   xxxxx   \n",
    "  xxxxxxx  \n",
    " xxxxxxxxx \n",
    "xxxxxxxxxxx\n",
    "```"
   ]
  },
  {
   "metadata": {},
   "cell_type": "code",
   "outputs": [],
   "execution_count": null,
   "source": [
    "def triangle_shape(height: int) -> str:\n",
    "    \"\"\"\n",
    "    Create a triangle shape filled with x\n",
    "    and with height equals to height.\n",
    "\n",
    "    Parameters\n",
    "    ----------\n",
    "    height: int\n",
    "\n",
    "    Returns\n",
    "    -------\n",
    "        str\n",
    "    \"\"\"\n",
    "    triangle: str = f\"\"\n",
    "    for i in range(height, 0, -1):\n",
    "        num_spaces = (height - i)\n",
    "        spaces = \" \" * num_spaces\n",
    "        triangle += spaces + \"x\" * (i * 2 - 1) + spaces + \"\\n\"\n",
    "\n",
    "    return triangle[::-1][1:] # start to index 1 to remove \\n at the top of the triangle.\n",
    "\n"
   ]
  },
  {
   "metadata": {},
   "cell_type": "code",
   "outputs": [],
   "execution_count": null,
   "source": "val = triangle_shape(5)"
  },
  {
   "metadata": {},
   "cell_type": "code",
   "outputs": [],
   "execution_count": null,
   "source": "print(val)"
  },
  {
   "metadata": {},
   "cell_type": "code",
   "outputs": [],
   "execution_count": null,
   "source": "triangle_shape(1)"
  },
  {
   "metadata": {},
   "cell_type": "code",
   "outputs": [],
   "execution_count": null,
   "source": ""
  }
 ],
 "metadata": {
  "kernelspec": {
   "display_name": "Python 3.8.10 64-bit",
   "language": "python",
   "name": "python3"
  },
  "language_info": {
   "codemirror_mode": {
    "name": "ipython",
    "version": 3
   },
   "file_extension": ".py",
   "mimetype": "text/x-python",
   "name": "python",
   "nbconvert_exporter": "python",
   "pygments_lexer": "ipython3",
   "version": "3.8.10"
  },
  "orig_nbformat": 4,
  "vscode": {
   "interpreter": {
    "hash": "916dbcbb3f70747c44a77c7bcd40155683ae19c65e1c03b4aa3499c5328201f1"
   }
  }
 },
 "nbformat": 4,
 "nbformat_minor": 2
}
