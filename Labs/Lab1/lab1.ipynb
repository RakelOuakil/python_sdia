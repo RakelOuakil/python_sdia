{
 "cells": [
  {
   "metadata": {},
   "cell_type": "markdown",
   "source": [
    "# Practical session 1 - Some Python basics\n",
    "\n",
    "Students (pair):\n",
    "- [Gabriel Gozlan](https://github.com/GabrielGozlan)\n",
    "- [Rakel Ouakil](https://github.com/RakelOuakil)"
   ]
  },
  {
   "metadata": {},
   "cell_type": "markdown",
   "source": "## Zen of Python\n"
  },
  {
   "metadata": {
    "ExecuteTime": {
     "end_time": "2025-09-22T07:43:24.810746Z",
     "start_time": "2025-09-22T07:43:24.804945Z"
    }
   },
   "cell_type": "code",
   "source": "from typing import List",
   "outputs": [],
   "execution_count": 1
  },
  {
   "metadata": {},
   "cell_type": "markdown",
   "source": "## Reserved keywords\n"
  },
  {
   "metadata": {
    "ExecuteTime": {
     "end_time": "2025-09-22T07:43:31.479591Z",
     "start_time": "2025-09-22T07:43:31.474120Z"
    }
   },
   "cell_type": "code",
   "source": [
    "import keyword\n",
    "print(keyword.kwlist)"
   ],
   "outputs": [
    {
     "name": "stdout",
     "output_type": "stream",
     "text": [
      "['False', 'None', 'True', 'and', 'as', 'assert', 'async', 'await', 'break', 'class', 'continue', 'def', 'del', 'elif', 'else', 'except', 'finally', 'for', 'from', 'global', 'if', 'import', 'in', 'is', 'lambda', 'nonlocal', 'not', 'or', 'pass', 'raise', 'return', 'try', 'while', 'with', 'yield']\n"
     ]
    }
   ],
   "execution_count": 2
  },
  {
   "metadata": {},
   "cell_type": "markdown",
   "source": "## Arithmetic"
  },
  {
   "metadata": {},
   "cell_type": "markdown",
   "source": "Compute 4 raised to the power 8"
  },
  {
   "metadata": {
    "ExecuteTime": {
     "end_time": "2025-09-22T07:43:34.923430Z",
     "start_time": "2025-09-22T07:43:34.910952Z"
    }
   },
   "cell_type": "code",
   "source": "4 ** 8",
   "outputs": [
    {
     "data": {
      "text/plain": [
       "65536"
      ]
     },
     "execution_count": 3,
     "metadata": {},
     "output_type": "execute_result"
    }
   ],
   "execution_count": 3
  },
  {
   "metadata": {},
   "cell_type": "markdown",
   "source": "Compute the quotient and the remainder of the euclidean division of 17 by 3."
  },
  {
   "metadata": {
    "ExecuteTime": {
     "end_time": "2025-09-22T07:43:37.838524Z",
     "start_time": "2025-09-22T07:43:37.834130Z"
    }
   },
   "cell_type": "code",
   "source": [
    "quotient = 17 // 3\n",
    "remainder = 17 % 3\n",
    "print(f\"quotient : {quotient}, remainder : {remainder}\")"
   ],
   "outputs": [
    {
     "name": "stdout",
     "output_type": "stream",
     "text": [
      "quotient : 5, remainder : 2\n"
     ]
    }
   ],
   "execution_count": 4
  },
  {
   "metadata": {},
   "cell_type": "markdown",
   "source": "Create two integer variables `a, b` of your choice and swap their content."
  },
  {
   "metadata": {
    "ExecuteTime": {
     "end_time": "2025-09-22T07:43:41.173640Z",
     "start_time": "2025-09-22T07:43:41.169904Z"
    }
   },
   "cell_type": "code",
   "source": [
    "a = 3\n",
    "b = 5\n",
    "print(\"a =\", a, \" b =\", b)\n",
    "\n",
    "a, b = b, a\n",
    "print(\"a =\", a, \" b =\", b)"
   ],
   "outputs": [
    {
     "name": "stdout",
     "output_type": "stream",
     "text": [
      "a = 3  b = 5\n",
      "a = 5  b = 3\n"
     ]
    }
   ],
   "execution_count": 5
  },
  {
   "metadata": {},
   "cell_type": "markdown",
   "source": "Modify `a` inplace, so that the new value of `a` is twice its previous value."
  },
  {
   "metadata": {
    "ExecuteTime": {
     "end_time": "2025-09-22T07:44:33.491017Z",
     "start_time": "2025-09-22T07:44:33.487330Z"
    }
   },
   "cell_type": "code",
   "source": [
    "a *= 2\n",
    "print(f\"new a = {a}\")"
   ],
   "outputs": [
    {
     "name": "stdout",
     "output_type": "stream",
     "text": [
      "new a = 10\n"
     ]
    }
   ],
   "execution_count": 6
  },
  {
   "metadata": {},
   "cell_type": "markdown",
   "source": [
    "Define a complex number `z` object and print it as\n",
    "\n",
    "`(real=z.real, imag=z.imaginary)`"
   ]
  },
  {
   "metadata": {
    "ExecuteTime": {
     "end_time": "2025-09-22T07:44:34.709322Z",
     "start_time": "2025-09-22T07:44:34.703768Z"
    }
   },
   "cell_type": "code",
   "source": [
    "z = 5 + 2j\n",
    "print(f\"z={z}\")\n",
    "print(f\"(real={z.real}, imag={z.imag})\")"
   ],
   "outputs": [
    {
     "name": "stdout",
     "output_type": "stream",
     "text": [
      "z=(5+2j)\n",
      "(real=5.0, imag=2.0)\n"
     ]
    }
   ],
   "execution_count": 7
  },
  {
   "metadata": {},
   "cell_type": "markdown",
   "source": "## Strings\n"
  },
  {
   "metadata": {},
   "cell_type": "markdown",
   "source": "Propose two ways to define an empty string"
  },
  {
   "metadata": {
    "ExecuteTime": {
     "end_time": "2025-09-22T07:44:38.629966Z",
     "start_time": "2025-09-22T07:44:38.626273Z"
    }
   },
   "cell_type": "code",
   "source": [
    "s = str()\n",
    "print(f\"A first way to define a string : s = {s}\")\n",
    "\n",
    "s = \"\"\n",
    "print(f\"A second way to define a string : s = {s}\")"
   ],
   "outputs": [
    {
     "name": "stdout",
     "output_type": "stream",
     "text": [
      "A first way to define a string : s = \n",
      "A second way to define a string : s = \n"
     ]
    }
   ],
   "execution_count": 8
  },
  {
   "metadata": {},
   "cell_type": "markdown",
   "source": [
    "Define a string made of the 26 letters of the alphabet (lower case), then\n",
    "- What is the 12th letter of the alphabet\n",
    "- What are the 10 last letters of the alphabet\n",
    "- What are the 5th to the 10th letters of the alphabet\n",
    "- Create a new string where the 26 letters are converted to upper case."
   ]
  },
  {
   "metadata": {
    "ExecuteTime": {
     "end_time": "2025-09-22T07:44:40.944935Z",
     "start_time": "2025-09-22T07:44:40.938801Z"
    }
   },
   "cell_type": "code",
   "source": [
    "# We know that ascii code for letter A is 65\n",
    "alphabet = \"\".join([chr(i) for i in range(65, 65 + 26)]).lower()\n",
    "alphabet\n",
    "\n"
   ],
   "outputs": [
    {
     "data": {
      "text/plain": [
       "'abcdefghijklmnopqrstuvwxyz'"
      ]
     },
     "execution_count": 9,
     "metadata": {},
     "output_type": "execute_result"
    }
   ],
   "execution_count": 9
  },
  {
   "metadata": {
    "ExecuteTime": {
     "end_time": "2025-09-22T07:44:43.954919Z",
     "start_time": "2025-09-22T07:44:43.945174Z"
    }
   },
   "cell_type": "code",
   "source": [
    "print(f\"12 letter of the alphabet is : {alphabet[11]}\")\n",
    "\n",
    "last_letters = alphabet[-10:]\n",
    "print(f\"{len(last_letters)} last letters of the alphabet are : {last_letters}\")\n",
    "\n",
    "range_letters = alphabet[4: 9]\n",
    "print(f\"5th to the {5 + len(range_letters)}th letters of the alphabet are : {range_letters}\")"
   ],
   "outputs": [
    {
     "name": "stdout",
     "output_type": "stream",
     "text": [
      "12 letter of the alphabet is : l\n",
      "10 last letters of the alphabet are : qrstuvwxyz\n",
      "5th to the 10th letters of the alphabet are : efghi\n"
     ]
    }
   ],
   "execution_count": 10
  },
  {
   "metadata": {
    "ExecuteTime": {
     "end_time": "2025-09-22T07:44:46.745655Z",
     "start_time": "2025-09-22T07:44:46.738241Z"
    }
   },
   "cell_type": "code",
   "source": [
    "alphabet_uppercase = alphabet.upper()\n",
    "alphabet_uppercase"
   ],
   "outputs": [
    {
     "data": {
      "text/plain": [
       "'ABCDEFGHIJKLMNOPQRSTUVWXYZ'"
      ]
     },
     "execution_count": 11,
     "metadata": {},
     "output_type": "execute_result"
    }
   ],
   "execution_count": 11
  },
  {
   "metadata": {},
   "cell_type": "markdown",
   "source": "Extract the first 4 digits of the number `x = 2341324530045968` (answer is `2341`)."
  },
  {
   "metadata": {
    "ExecuteTime": {
     "end_time": "2025-09-22T07:44:50.786836Z",
     "start_time": "2025-09-22T07:44:50.782155Z"
    }
   },
   "cell_type": "code",
   "source": "x = 2341324530045968",
   "outputs": [],
   "execution_count": 12
  },
  {
   "metadata": {
    "ExecuteTime": {
     "end_time": "2025-09-22T07:44:51.347790Z",
     "start_time": "2025-09-22T07:44:51.344697Z"
    }
   },
   "cell_type": "code",
   "source": [
    "first_four_digits = str(x)[:4]\n",
    "\n",
    "print(first_four_digits == \"2341\")\n",
    "\n"
   ],
   "outputs": [
    {
     "name": "stdout",
     "output_type": "stream",
     "text": [
      "True\n"
     ]
    }
   ],
   "execution_count": 13
  },
  {
   "metadata": {},
   "cell_type": "markdown",
   "source": "## Lists"
  },
  {
   "metadata": {},
   "cell_type": "markdown",
   "source": "Propose two ways to define an empty list."
  },
  {
   "metadata": {
    "ExecuteTime": {
     "end_time": "2025-09-22T07:45:05.011900Z",
     "start_time": "2025-09-22T07:45:05.007946Z"
    }
   },
   "cell_type": "code",
   "source": [
    "l1= []\n",
    "l2 = list()\n",
    "print(l1,l2)\n"
   ],
   "outputs": [
    {
     "name": "stdout",
     "output_type": "stream",
     "text": [
      "[] []\n"
     ]
    }
   ],
   "execution_count": 14
  },
  {
   "metadata": {},
   "cell_type": "markdown",
   "source": "Create the list of consecutive integers from 5 to 11."
  },
  {
   "metadata": {
    "ExecuteTime": {
     "end_time": "2025-09-22T07:45:12.667560Z",
     "start_time": "2025-09-22T07:45:12.663512Z"
    }
   },
   "cell_type": "code",
   "source": [
    "l = [i for i in range(5, 12)]\n",
    "print(l)"
   ],
   "outputs": [
    {
     "name": "stdout",
     "output_type": "stream",
     "text": [
      "[5, 6, 7, 8, 9, 10, 11]\n"
     ]
    }
   ],
   "execution_count": 15
  },
  {
   "metadata": {},
   "cell_type": "markdown",
   "source": "Add `100` to this list."
  },
  {
   "metadata": {
    "ExecuteTime": {
     "end_time": "2025-09-22T07:45:16.410342Z",
     "start_time": "2025-09-22T07:45:16.407117Z"
    }
   },
   "cell_type": "code",
   "source": "l.append(100)",
   "outputs": [],
   "execution_count": 16
  },
  {
   "metadata": {
    "ExecuteTime": {
     "end_time": "2025-09-22T07:45:16.631579Z",
     "start_time": "2025-09-22T07:45:16.626578Z"
    }
   },
   "cell_type": "code",
   "source": "l",
   "outputs": [
    {
     "data": {
      "text/plain": [
       "[5, 6, 7, 8, 9, 10, 11, 100]"
      ]
     },
     "execution_count": 17,
     "metadata": {},
     "output_type": "execute_result"
    }
   ],
   "execution_count": 17
  },
  {
   "metadata": {},
   "cell_type": "markdown",
   "source": [
    "Given the following list, \n",
    "Change the `\"sdia\"` to its reverse (`\"aids\"`)."
   ]
  },
  {
   "metadata": {
    "ExecuteTime": {
     "end_time": "2025-09-22T07:45:22.486215Z",
     "start_time": "2025-09-22T07:45:22.482802Z"
    }
   },
   "cell_type": "code",
   "source": "x = [10, [3, 4], [5, [100, 200, [\"sdia\"]], 23, 11], 1, 7]",
   "outputs": [],
   "execution_count": 18
  },
  {
   "metadata": {
    "ExecuteTime": {
     "end_time": "2025-09-22T07:45:22.662509Z",
     "start_time": "2025-09-22T07:45:22.657870Z"
    }
   },
   "cell_type": "code",
   "source": [
    "x[2][1][2][0]=\"aids\"\n",
    "x"
   ],
   "outputs": [
    {
     "data": {
      "text/plain": [
       "[10, [3, 4], [5, [100, 200, ['aids']], 23, 11], 1, 7]"
      ]
     },
     "execution_count": 19,
     "metadata": {},
     "output_type": "execute_result"
    }
   ],
   "execution_count": 19
  },
  {
   "metadata": {},
   "cell_type": "markdown",
   "source": [
    "Given the following list, \n",
    "\n",
    "  1. extract the first two items\n",
    "  2. extract the last two items\n",
    "  3. find the index of the first occurence of `9`\n",
    "  4. extract the items located at odd indices\n",
    "  5. create a new list which corresponds to the reversed version of the originial list\n",
    "  6. create a new list where each item of the original list is raised to the power 3"
   ]
  },
  {
   "metadata": {
    "ExecuteTime": {
     "end_time": "2025-09-22T07:45:30.942173Z",
     "start_time": "2025-09-22T07:45:30.937904Z"
    }
   },
   "cell_type": "code",
   "source": "x=[3, 7, 5, 3, 8, 6, 8, 8, 0, 7, 3, 9, 3, 4, 2, 7, 0, 9, 5, 0, 0, 9, 0, 9, 3, 1, 4, 0, 5, 5, 5, 8, 9, 9, 5, 5, 4, 9, 5, 6, 2, 8, 5, 2, 4, 9, 2, 2, 3, 1]\n",
   "outputs": [],
   "execution_count": 20
  },
  {
   "metadata": {
    "ExecuteTime": {
     "end_time": "2025-09-22T07:45:31.129236Z",
     "start_time": "2025-09-22T07:45:31.124016Z"
    }
   },
   "cell_type": "code",
   "source": [
    "first_two = x[:2]\n",
    "print(f\"First two items : {first_two}\")\n",
    "\n",
    "last_two = x[-2:]\n",
    "print(f\"Last two items : {last_two}\")\n",
    "\n",
    "index_first_nine = x.index(9)\n",
    "print(f\"First 9 at index : {index_first_nine}\")\n",
    "\n",
    "items_at_odd_indices = x[1::2]\n",
    "print(f\"Items at odd indices : {items_at_odd_indices}\")\n",
    "\n",
    "reversed_list = list(reversed(x))\n",
    "print(f\"Reversed list x : {reversed_list}\")\n",
    "\n",
    "mapped_list = [ele ** 3 for ele in x]\n",
    "print(f\"New list : {mapped_list}\")\n",
    "\n"
   ],
   "outputs": [
    {
     "name": "stdout",
     "output_type": "stream",
     "text": [
      "First two items : [3, 7]\n",
      "Last two items : [3, 1]\n",
      "First 9 at index : 11\n",
      "Items at odd indices : [7, 3, 6, 8, 7, 9, 4, 7, 9, 0, 9, 9, 1, 0, 5, 8, 9, 5, 9, 6, 8, 2, 9, 2, 1]\n",
      "Reversed list x : [1, 3, 2, 2, 9, 4, 2, 5, 8, 2, 6, 5, 9, 4, 5, 5, 9, 9, 8, 5, 5, 5, 0, 4, 1, 3, 9, 0, 9, 0, 0, 5, 9, 0, 7, 2, 4, 3, 9, 3, 7, 0, 8, 8, 6, 8, 3, 5, 7, 3]\n",
      "New list : [27, 343, 125, 27, 512, 216, 512, 512, 0, 343, 27, 729, 27, 64, 8, 343, 0, 729, 125, 0, 0, 729, 0, 729, 27, 1, 64, 0, 125, 125, 125, 512, 729, 729, 125, 125, 64, 729, 125, 216, 8, 512, 125, 8, 64, 729, 8, 8, 27, 1]\n"
     ]
    }
   ],
   "execution_count": 21
  },
  {
   "metadata": {},
   "cell_type": "markdown",
   "source": "## Tuples"
  },
  {
   "metadata": {},
   "cell_type": "markdown",
   "source": [
    "\n",
    "Propose two ways to define an empty tuple."
   ]
  },
  {
   "metadata": {
    "ExecuteTime": {
     "end_time": "2025-09-22T07:45:38.616420Z",
     "start_time": "2025-09-22T07:45:38.612617Z"
    }
   },
   "cell_type": "code",
   "source": [
    "t = tuple()\n",
    "print(f\"A first way to define a tuple : t = {t}\")\n",
    "\n",
    "t = ()\n",
    "print(f\"A second way to define a dictionary : t = {t}\")"
   ],
   "outputs": [
    {
     "name": "stdout",
     "output_type": "stream",
     "text": [
      "A first way to define a tuple : t = ()\n",
      "A second way to define a dictionary : t = ()\n"
     ]
    }
   ],
   "execution_count": 22
  },
  {
   "metadata": {},
   "cell_type": "markdown",
   "source": [
    "Given the following tuple\n",
    "- try to replace the second item (`4`) to `8`.\n",
    "- modify the list so that the second element of the first item is raised to the power 5"
   ]
  },
  {
   "metadata": {
    "ExecuteTime": {
     "end_time": "2025-09-22T07:46:21.434287Z",
     "start_time": "2025-09-22T07:46:21.431176Z"
    }
   },
   "cell_type": "code",
   "source": "x = ([1, 2, 3], 4)",
   "outputs": [],
   "execution_count": 27
  },
  {
   "metadata": {
    "ExecuteTime": {
     "end_time": "2025-09-22T07:46:21.937453Z",
     "start_time": "2025-09-22T07:46:21.933723Z"
    }
   },
   "cell_type": "code",
   "source": [
    "try:\n",
    "    x[1] = 8\n",
    "except TypeError as e:\n",
    "    print(f\"Error with tuple use : {e}\")\n"
   ],
   "outputs": [
    {
     "name": "stdout",
     "output_type": "stream",
     "text": [
      "Error with tuple use : 'tuple' object does not support item assignment\n"
     ]
    }
   ],
   "execution_count": 28
  },
  {
   "metadata": {
    "ExecuteTime": {
     "end_time": "2025-09-22T07:46:22.318143Z",
     "start_time": "2025-09-22T07:46:22.310764Z"
    }
   },
   "cell_type": "code",
   "source": [
    "try:\n",
    "    x[0][1] = 2 ** 5\n",
    "except TypeError as e:\n",
    "    print(f\"Error with tuple use : {e}\")\n",
    "else:\n",
    "    print(f\"New tuple : {x}\")\n"
   ],
   "outputs": [
    {
     "name": "stdout",
     "output_type": "stream",
     "text": [
      "New tuple : ([1, 32, 3], 4)\n"
     ]
    }
   ],
   "execution_count": 29
  },
  {
   "metadata": {},
   "cell_type": "markdown",
   "source": "What is the main difference between a list and a tuple?"
  },
  {
   "metadata": {},
   "cell_type": "markdown",
   "source": [
    "From these tests we can see that :\n",
    "- A list is mutable.\n",
    "- A tuple is imutable."
   ]
  },
  {
   "metadata": {},
   "cell_type": "markdown",
   "source": "## Sets"
  },
  {
   "metadata": {},
   "cell_type": "markdown",
   "source": "Create an empty set"
  },
  {
   "metadata": {
    "ExecuteTime": {
     "end_time": "2025-09-22T07:46:33.717717Z",
     "start_time": "2025-09-22T07:46:33.714476Z"
    }
   },
   "cell_type": "code",
   "source": "empty = set()",
   "outputs": [],
   "execution_count": 30
  },
  {
   "metadata": {},
   "cell_type": "markdown",
   "source": "Compute the intersection between $A = \\{1, 2, 3\\}$ and $B = \\{2, 4, 5, 6\\}$."
  },
  {
   "metadata": {
    "ExecuteTime": {
     "end_time": "2025-09-22T07:46:38.345269Z",
     "start_time": "2025-09-22T07:46:38.342044Z"
    }
   },
   "cell_type": "code",
   "source": [
    "A = set((1, 2, 3))\n",
    "B = set((2, 4, 5, 6))\n",
    "\n",
    "intersection: set = A & B\n",
    "print(f\"Intersection between A and B : {intersection}\")"
   ],
   "outputs": [
    {
     "name": "stdout",
     "output_type": "stream",
     "text": [
      "Intersection between A and B : {2}\n"
     ]
    }
   ],
   "execution_count": 31
  },
  {
   "metadata": {},
   "cell_type": "markdown",
   "source": [
    "From the following set\n",
    "- add the numbers 4, 5, 6\n",
    "- remove the numbers 1, 2, 3\n",
    "- check if the resulting set is contained in `{1, 2, 4, 5, 6, 10}` "
   ]
  },
  {
   "metadata": {
    "ExecuteTime": {
     "end_time": "2025-09-22T07:46:45.812016Z",
     "start_time": "2025-09-22T07:46:45.806256Z"
    }
   },
   "cell_type": "code",
   "source": "x = {0, 1, 2, 3, 6, 7, 8, 9, 10}",
   "outputs": [],
   "execution_count": 32
  },
  {
   "metadata": {
    "ExecuteTime": {
     "end_time": "2025-09-22T07:46:46.011333Z",
     "start_time": "2025-09-22T07:46:46.006874Z"
    }
   },
   "cell_type": "code",
   "source": [
    "x_with_new_elements = x | {4, 5, 6}\n",
    "print(f\"First question : {x_with_new_elements}\")\n",
    "print(len(x_with_new_elements) == len(x) + 2) # because 6 already in x"
   ],
   "outputs": [
    {
     "name": "stdout",
     "output_type": "stream",
     "text": [
      "First question : {0, 1, 2, 3, 4, 5, 6, 7, 8, 9, 10}\n",
      "True\n"
     ]
    }
   ],
   "execution_count": 33
  },
  {
   "metadata": {
    "ExecuteTime": {
     "end_time": "2025-09-22T07:46:50.024062Z",
     "start_time": "2025-09-22T07:46:50.019827Z"
    }
   },
   "cell_type": "code",
   "source": [
    "x_final = x_with_new_elements - {1, 2, 3}\n",
    "print(f\"Second question : {x_final}\")\n",
    "print(len(x_final) == len(x_with_new_elements) - 3)"
   ],
   "outputs": [
    {
     "name": "stdout",
     "output_type": "stream",
     "text": [
      "Second question : {0, 4, 5, 6, 7, 8, 9, 10}\n",
      "True\n"
     ]
    }
   ],
   "execution_count": 34
  },
  {
   "metadata": {
    "ExecuteTime": {
     "end_time": "2025-09-22T07:46:50.266882Z",
     "start_time": "2025-09-22T07:46:50.262650Z"
    }
   },
   "cell_type": "code",
   "source": [
    "check_assertion = x_final in {1, 2, 4, 5, 6, 10}\n",
    "\n",
    "print(f\"L'assertion est {check_assertion}\") # for example, 0 not included"
   ],
   "outputs": [
    {
     "name": "stdout",
     "output_type": "stream",
     "text": [
      "L'assertion est False\n"
     ]
    }
   ],
   "execution_count": 35
  },
  {
   "metadata": {},
   "cell_type": "markdown",
   "source": "## Dictionnaries"
  },
  {
   "metadata": {},
   "cell_type": "markdown",
   "source": "Propose two ways to define an empty dictionary"
  },
  {
   "metadata": {
    "ExecuteTime": {
     "end_time": "2025-09-22T07:46:57.935544Z",
     "start_time": "2025-09-22T07:46:57.931128Z"
    }
   },
   "cell_type": "code",
   "source": [
    "d = dict()\n",
    "print(f\"A first way to define a dictionary : d = {d}\")\n",
    "\n",
    "d = {}\n",
    "print(f\"A second way to define a dictionary : d = {d}\")"
   ],
   "outputs": [
    {
     "name": "stdout",
     "output_type": "stream",
     "text": [
      "A first way to define a dictionary : d = {}\n",
      "A second way to define a dictionary : d = {}\n"
     ]
    }
   ],
   "execution_count": 36
  },
  {
   "metadata": {},
   "cell_type": "markdown",
   "source": [
    "Propose at least 3 ways to define a dictionary with \n",
    "- keys `(\"a\", \"b\", \"c\", \"d\")`\n",
    "- values `(1, 3, 5 , 7)`"
   ]
  },
  {
   "metadata": {
    "ExecuteTime": {
     "end_time": "2025-09-22T07:47:02.461958Z",
     "start_time": "2025-09-22T07:47:02.457919Z"
    }
   },
   "cell_type": "code",
   "source": [
    "keys = (\"a\", \"b\", \"c\", \"d\")\n",
    "values = (1, 3, 5, 7)"
   ],
   "outputs": [],
   "execution_count": 37
  },
  {
   "metadata": {
    "ExecuteTime": {
     "end_time": "2025-09-22T07:47:02.710712Z",
     "start_time": "2025-09-22T07:47:02.703230Z"
    }
   },
   "cell_type": "code",
   "source": [
    "d = dict(a=1, b=3, c=5, d=7)\n",
    "print(f\"First way : d = {d}\")\n",
    "\n",
    "d = {key: value for key, value in zip(keys, values)}\n",
    "print(f\"Second way : d = {d}\")\n",
    "\n",
    "d = dict(map(lambda item: (item[1], 2*item[0] + 1), enumerate(keys)))\n",
    "print(f\"Third way : d = {d}\")\n"
   ],
   "outputs": [
    {
     "name": "stdout",
     "output_type": "stream",
     "text": [
      "First way : d = {'a': 1, 'b': 3, 'c': 5, 'd': 7}\n",
      "Second way : d = {'a': 1, 'b': 3, 'c': 5, 'd': 7}\n",
      "Third way : d = {'a': 1, 'b': 3, 'c': 5, 'd': 7}\n"
     ]
    }
   ],
   "execution_count": 38
  },
  {
   "metadata": {},
   "cell_type": "markdown",
   "source": "Given the following dictionary, use indexing to get to the word `\"sdia\"`"
  },
  {
   "metadata": {
    "ExecuteTime": {
     "end_time": "2025-09-22T07:47:09.109919Z",
     "start_time": "2025-09-22T07:47:09.105963Z"
    }
   },
   "cell_type": "code",
   "source": [
    "d = {\n",
    "    \"outer\": [\n",
    "        1,\n",
    "        2,\n",
    "        3,\n",
    "        {\"inner\": [\"this\", \"is\", \"inception\", {\"inner_inner\": [1, 2, 3, \"sdia\"]}]},\n",
    "    ]\n",
    "}"
   ],
   "outputs": [],
   "execution_count": 39
  },
  {
   "metadata": {
    "ExecuteTime": {
     "end_time": "2025-09-22T07:47:09.297499Z",
     "start_time": "2025-09-22T07:47:09.291321Z"
    }
   },
   "cell_type": "code",
   "source": [
    "sdia = d[\"outer\"][3][\"inner\"][3][\"inner_inner\"][3]\n",
    "print(f\"Here is sdia : {sdia}\")"
   ],
   "outputs": [
    {
     "name": "stdout",
     "output_type": "stream",
     "text": [
      "Here is sdia : sdia\n"
     ]
    }
   ],
   "execution_count": 40
  },
  {
   "metadata": {},
   "cell_type": "markdown",
   "source": [
    "From the following dictionary,\n",
    "- Create the list of keys\n",
    "- Create the list of values\n",
    "- Check if the key `\"abc\"` is present, if not, return `123`.\n",
    "- Merge the initial dictionary with `{\"e\": -1, 4: True}`"
   ]
  },
  {
   "metadata": {
    "ExecuteTime": {
     "end_time": "2025-09-22T07:47:16.041423Z",
     "start_time": "2025-09-22T07:47:16.035782Z"
    }
   },
   "cell_type": "code",
   "source": [
    "d1 = dict(zip([(0, 1), \"e\", 1, None], [\"abc\", 4, None, 1 + 2j]))\n",
    "d1"
   ],
   "outputs": [
    {
     "data": {
      "text/plain": [
       "{(0, 1): 'abc', 'e': 4, 1: None, None: (1+2j)}"
      ]
     },
     "execution_count": 41,
     "metadata": {},
     "output_type": "execute_result"
    }
   ],
   "execution_count": 41
  },
  {
   "metadata": {
    "ExecuteTime": {
     "end_time": "2025-09-22T07:47:16.242876Z",
     "start_time": "2025-09-22T07:47:16.238298Z"
    }
   },
   "cell_type": "code",
   "source": [
    "keys = list(d1.keys())\n",
    "print(f\"List of keys : {keys}\")\n",
    "\n",
    "values = list(d1.values())\n",
    "print(f\"List of values : {values}\")"
   ],
   "outputs": [
    {
     "name": "stdout",
     "output_type": "stream",
     "text": [
      "List of keys : [(0, 1), 'e', 1, None]\n",
      "List of values : ['abc', 4, None, (1+2j)]\n"
     ]
    }
   ],
   "execution_count": 42
  },
  {
   "metadata": {
    "ExecuteTime": {
     "end_time": "2025-09-22T07:47:16.447254Z",
     "start_time": "2025-09-22T07:47:16.441231Z"
    }
   },
   "cell_type": "code",
   "source": [
    "def check_abc(d: dict) -> str | bool:\n",
    "    \"\"\"\n",
    "    Check if abc in keys of dict d.\n",
    "\n",
    "    Parameters\n",
    "    ----------\n",
    "    d : dict\n",
    "\n",
    "    Returns\n",
    "    -------\n",
    "    str | bool\n",
    "        True if \"abc\" in keys,\n",
    "        \"123\" otherwise.\n",
    "    \"\"\"\n",
    "    keys = list(d.keys())\n",
    "    if \"abc\" in keys:\n",
    "        return True\n",
    "    return \"123\"\n",
    "\n",
    "check_abc(d1)\n"
   ],
   "outputs": [
    {
     "data": {
      "text/plain": [
       "'123'"
      ]
     },
     "execution_count": 43,
     "metadata": {},
     "output_type": "execute_result"
    }
   ],
   "execution_count": 43
  },
  {
   "metadata": {
    "ExecuteTime": {
     "end_time": "2025-09-22T07:47:16.853178Z",
     "start_time": "2025-09-22T07:47:16.849055Z"
    }
   },
   "cell_type": "code",
   "source": [
    "other_d = {\"e\": -1, 4: True}\n",
    "\n",
    "d1.update(other_d)\n",
    "print(f\"New dictionary : {d1}\")\n",
    "print(\"The second dictionary has priority.\")\n"
   ],
   "outputs": [
    {
     "name": "stdout",
     "output_type": "stream",
     "text": [
      "New dictionary : {(0, 1): 'abc', 'e': -1, 1: None, None: (1+2j), 4: True}\n",
      "The second dictionary has priority.\n"
     ]
    }
   ],
   "execution_count": 44
  },
  {
   "metadata": {},
   "cell_type": "markdown",
   "source": "## Conditions"
  },
  {
   "metadata": {},
   "cell_type": "markdown",
   "source": "Propose two ways to construct the list of odd values ranging from 0 to 30"
  },
  {
   "metadata": {
    "ExecuteTime": {
     "end_time": "2025-09-22T07:47:39.978221Z",
     "start_time": "2025-09-22T07:47:39.973710Z"
    }
   },
   "cell_type": "code",
   "source": [
    "l = []\n",
    "for i in range(1,31):\n",
    "    if i%2 == 1:\n",
    "        l.append(i)\n",
    "print(l)"
   ],
   "outputs": [
    {
     "name": "stdout",
     "output_type": "stream",
     "text": [
      "[1, 3, 5, 7, 9, 11, 13, 15, 17, 19, 21, 23, 25, 27, 29]\n"
     ]
    }
   ],
   "execution_count": 45
  },
  {
   "metadata": {
    "ExecuteTime": {
     "end_time": "2025-09-22T07:47:50.469258Z",
     "start_time": "2025-09-22T07:47:50.465723Z"
    }
   },
   "cell_type": "code",
   "source": [
    "l = list(range(1, 31, 2))\n",
    "print(l)"
   ],
   "outputs": [
    {
     "name": "stdout",
     "output_type": "stream",
     "text": [
      "[1, 3, 5, 7, 9, 11, 13, 15, 17, 19, 21, 23, 25, 27, 29]\n"
     ]
    }
   ],
   "execution_count": 46
  },
  {
   "metadata": {},
   "cell_type": "markdown",
   "source": [
    "From the following list, create another list which contains\n",
    "- `\"fiz\"` if the item is a multiple of 5,\n",
    "- `\"buz\"` if the item is a multiple of 7,\n",
    "- `\"fizbuz\"` if the item is a both a multiple of 5 and 7,\n",
    "- the index of the item otherwise."
   ]
  },
  {
   "metadata": {
    "ExecuteTime": {
     "end_time": "2025-09-22T07:47:58.020401Z",
     "start_time": "2025-09-22T07:47:58.014760Z"
    }
   },
   "cell_type": "code",
   "source": "x = [2, 1, 3, 31, 35, 20, 70, 132, 144, 49]",
   "outputs": [],
   "execution_count": 47
  },
  {
   "metadata": {
    "ExecuteTime": {
     "end_time": "2025-09-22T07:49:00.116607Z",
     "start_time": "2025-09-22T07:49:00.112404Z"
    }
   },
   "cell_type": "code",
   "source": [
    "def create_another_list(x: List[int]) -> List[int | str]:\n",
    "    \"\"\"\n",
    "    Implementation of fizbuz\n",
    "\n",
    "    Parameters\n",
    "    ----------\n",
    "    x : List[int]\n",
    "\n",
    "    Returns\n",
    "    -------\n",
    "    created_list : List[int | str]\n",
    "    \"\"\"\n",
    "    created_list = list()\n",
    "\n",
    "    for _, ele in enumerate(x):\n",
    "        if ele % 35 == 0:\n",
    "            created_list.append(\"fizbuz\")\n",
    "        elif ele % 5 == 0:\n",
    "            created_list.append(\"fiz\")\n",
    "        elif ele % 7 == 0:\n",
    "            created_list.append(\"buz\")\n",
    "        else:\n",
    "            created_list.append(_)\n",
    "    return created_list\n"
   ],
   "outputs": [],
   "execution_count": 48
  },
  {
   "metadata": {
    "ExecuteTime": {
     "end_time": "2025-09-22T07:49:07.937341Z",
     "start_time": "2025-09-22T07:49:07.928642Z"
    }
   },
   "cell_type": "code",
   "source": "create_another_list(x)",
   "outputs": [
    {
     "data": {
      "text/plain": [
       "[0, 1, 2, 3, 'fizbuz', 'fiz', 'fizbuz', 7, 8, 'buz']"
      ]
     },
     "execution_count": 49,
     "metadata": {},
     "output_type": "execute_result"
    }
   ],
   "execution_count": 49
  },
  {
   "metadata": {},
   "cell_type": "markdown",
   "source": [
    "Given a string variable `course`, construct a `if/elif/else` statement that prints:\n",
    "- `\"That is very useful!\"` if `course` is `\"maths\"` (any kind of capitalization)\n",
    "- `\"That is very useful!\"` if `course` is `\"python\"` (any kind of capitalization)\n",
    "- `\"How nice!\"` if `course` is `\"meditation\"` (any kind of capitalization)\n",
    "- `\"You're not at Hogwarts\"` if `course` is `\"magic\"` (any kind of capitalization)\n",
    "- otherwise `\"What is this COURSE?\"` if `course` is anything else."
   ]
  },
  {
   "metadata": {
    "ExecuteTime": {
     "end_time": "2025-09-22T07:49:52.738076Z",
     "start_time": "2025-09-22T07:49:52.731653Z"
    }
   },
   "cell_type": "code",
   "source": [
    "def remark_on_course(course: str) -> None:\n",
    "    \"\"\"\n",
    "    Make a comment about the input course.\n",
    "\n",
    "    Parameters\n",
    "    ----------\n",
    "    course : str\n",
    "\n",
    "    Returns\n",
    "    -------\n",
    "        None\n",
    "    \"\"\"\n",
    "    course = course.lower()\n",
    "    if (course == \"maths\") or (course == \"python\"):\n",
    "        print(\"That is very useful!\")\n",
    "    elif course == \"meditation\":\n",
    "        print(\"How nice!\")\n",
    "    elif course == \"magic\":\n",
    "        print(\"You're not at Hogwarts\")\n",
    "    else:\n",
    "        print(\"What is this COURSE?\")\n",
    "    return None\n"
   ],
   "outputs": [],
   "execution_count": 50
  },
  {
   "metadata": {
    "ExecuteTime": {
     "end_time": "2025-09-22T07:49:52.891375Z",
     "start_time": "2025-09-22T07:49:52.887844Z"
    }
   },
   "cell_type": "code",
   "source": [
    "remark_on_course(\"maths\")\n",
    "remark_on_course(\"mAths\")\n",
    "remark_on_course(\"maaths\")"
   ],
   "outputs": [
    {
     "name": "stdout",
     "output_type": "stream",
     "text": [
      "That is very useful!\n",
      "That is very useful!\n",
      "What is this COURSE?\n"
     ]
    }
   ],
   "execution_count": 51
  },
  {
   "metadata": {},
   "cell_type": "markdown",
   "source": [
    "Given the following variables, create and print the string\n",
    "\n",
    "``quantity`` ``fruit``(s) cost(s) $``price``\n",
    "\n",
    "such that\n",
    "- there is an `\"s\"` at `\"cost\"` when there is more only one fruit,\n",
    "- there is an `\"s\"` at `\"fruit\"` when there is more that one fruit,\n",
    "- the price is displayed as ...,xxx,xxx.yy where yy corresponds rounded cents value"
   ]
  },
  {
   "metadata": {
    "ExecuteTime": {
     "end_time": "2025-09-22T07:50:47.585854Z",
     "start_time": "2025-09-22T07:50:47.581619Z"
    }
   },
   "cell_type": "code",
   "source": [
    "def display_info(quantity: int, fruit: str, price: float) -> None:\n",
    "    \"\"\"\n",
    "    Parameters\n",
    "    ----------\n",
    "    quantity : int\n",
    "    fruit : str\n",
    "    price : float\n",
    "    Returns\n",
    "    -------\n",
    "        None\n",
    "        The price is rounded to 2 decimals.\n",
    "    \"\"\"\n",
    "    rounded_price = round(price, 2)\n",
    "\n",
    "    if quantity <= 0:\n",
    "        print(\"No quantity\")\n",
    "    elif quantity == 1:\n",
    "        print(f\"1 {fruit} costs {rounded_price}\")\n",
    "    else:\n",
    "        print(f\"{quantity} {fruit}s cost {rounded_price}\")\n",
    "    return None"
   ],
   "outputs": [],
   "execution_count": 52
  },
  {
   "metadata": {
    "ExecuteTime": {
     "end_time": "2025-09-22T07:50:47.739609Z",
     "start_time": "2025-09-22T07:50:47.736401Z"
    }
   },
   "cell_type": "code",
   "source": [
    "quantity = 1\n",
    "fruit = \"avocado\"\n",
    "price = 1.8912392e4"
   ],
   "outputs": [],
   "execution_count": 53
  },
  {
   "metadata": {
    "ExecuteTime": {
     "end_time": "2025-09-22T07:50:47.904793Z",
     "start_time": "2025-09-22T07:50:47.900600Z"
    }
   },
   "cell_type": "code",
   "source": "display_info(quantity, fruit, price)",
   "outputs": [
    {
     "name": "stdout",
     "output_type": "stream",
     "text": [
      "1 avocado costs 18912.39\n"
     ]
    }
   ],
   "execution_count": 54
  },
  {
   "metadata": {},
   "cell_type": "markdown",
   "source": "## Functions"
  },
  {
   "metadata": {},
   "cell_type": "markdown",
   "source": "Define the function `is_unique(x)` which takes a list of integers `x` as input and returns `True` if the there is no duplicate items otherwise return `False`."
  },
  {
   "metadata": {
    "ExecuteTime": {
     "end_time": "2025-09-22T07:51:01.281003Z",
     "start_time": "2025-09-22T07:51:01.277684Z"
    }
   },
   "cell_type": "code",
   "source": [
    "# Function tested in tests folder\n",
    "\n",
    "def is_unique(x: List[int]) -> bool:\n",
    "    \"\"\"\n",
    "    Check if the list contains no duplicate.\n",
    "\n",
    "    Parameters\n",
    "    ----------\n",
    "    x: List[int]\n",
    "\n",
    "    Returns\n",
    "    -------\n",
    "        bool\n",
    "    \"\"\"\n",
    "    return len(x) == len(set(x))\n",
    "\n"
   ],
   "outputs": [],
   "execution_count": 55
  },
  {
   "metadata": {},
   "cell_type": "markdown",
   "source": [
    "Define a function `triangle_shape(height)`, that returns \n",
    "- `\"\"` if `height=0`, \n",
    "- otherwise it returns a string that forms a triangle with height prescribed by `height`.\n",
    "\n",
    "**Examples**\n",
    "\n",
    "height=1\n",
    "```\n",
    "x\n",
    "```\n",
    "\n",
    "height=2\n",
    "```\n",
    " x \n",
    "xxx\n",
    "```\n",
    "\n",
    "height=3\n",
    "```\n",
    "  x  \n",
    " xxx \n",
    "xxxxx\n",
    "```\n",
    "\n",
    "height=4\n",
    "```\n",
    "   x   \n",
    "  xxx  \n",
    " xxxxx \n",
    "xxxxxxx\n",
    "```\n",
    "\n",
    "height=5\n",
    "```\n",
    "    x    \n",
    "   xxx   \n",
    "  xxxxx  \n",
    " xxxxxxx \n",
    "xxxxxxxxx\n",
    "```\n",
    "\n",
    "height=6\n",
    "```\n",
    "     x     \n",
    "    xxx    \n",
    "   xxxxx   \n",
    "  xxxxxxx  \n",
    " xxxxxxxxx \n",
    "xxxxxxxxxxx\n",
    "```"
   ]
  },
  {
   "metadata": {
    "ExecuteTime": {
     "end_time": "2025-09-22T07:51:09.343987Z",
     "start_time": "2025-09-22T07:51:09.339865Z"
    }
   },
   "cell_type": "code",
   "source": [
    "# Function tested in tests folder\n",
    "\n",
    "def triangle_shape(height: int) -> str:\n",
    "    \"\"\"\n",
    "    Create a triangle shape filled with x\n",
    "    and with height equals to height.\n",
    "\n",
    "    Parameters\n",
    "    ----------\n",
    "    height: int\n",
    "\n",
    "    Returns\n",
    "    -------\n",
    "        str\n",
    "    \"\"\"\n",
    "    triangle: str = f\"\"\n",
    "    for i in range(height, 0, -1):\n",
    "        num_spaces = (height - i)\n",
    "        spaces = \" \" * num_spaces\n",
    "        triangle += spaces + \"x\" * (i * 2 - 1) + spaces + \"\\n\"\n",
    "\n",
    "    return triangle[::-1][1:] # start to index 1 to remove \\n at the top of the triangle.\n",
    "\n"
   ],
   "outputs": [],
   "execution_count": 56
  },
  {
   "metadata": {
    "ExecuteTime": {
     "end_time": "2025-09-22T07:51:12.688155Z",
     "start_time": "2025-09-22T07:51:12.683528Z"
    }
   },
   "cell_type": "code",
   "source": "val = triangle_shape(5)",
   "outputs": [],
   "execution_count": 57
  },
  {
   "metadata": {
    "ExecuteTime": {
     "end_time": "2025-09-22T07:51:13.359507Z",
     "start_time": "2025-09-22T07:51:13.355965Z"
    }
   },
   "cell_type": "code",
   "source": "print(val)",
   "outputs": [
    {
     "name": "stdout",
     "output_type": "stream",
     "text": [
      "    x    \n",
      "   xxx   \n",
      "  xxxxx  \n",
      " xxxxxxx \n",
      "xxxxxxxxx\n"
     ]
    }
   ],
   "execution_count": 58
  },
  {
   "metadata": {
    "ExecuteTime": {
     "end_time": "2025-09-22T07:51:14.327416Z",
     "start_time": "2025-09-22T07:51:14.322399Z"
    }
   },
   "cell_type": "code",
   "source": "triangle_shape(1)",
   "outputs": [
    {
     "data": {
      "text/plain": [
       "'x'"
      ]
     },
     "execution_count": 59,
     "metadata": {},
     "output_type": "execute_result"
    }
   ],
   "execution_count": 59
  },
  {
   "metadata": {},
   "cell_type": "code",
   "outputs": [],
   "execution_count": null,
   "source": ""
  }
 ],
 "metadata": {
  "kernelspec": {
   "display_name": "Python 3.8.10 64-bit",
   "language": "python",
   "name": "python3"
  },
  "language_info": {
   "codemirror_mode": {
    "name": "ipython",
    "version": 3
   },
   "file_extension": ".py",
   "mimetype": "text/x-python",
   "name": "python",
   "nbconvert_exporter": "python",
   "pygments_lexer": "ipython3",
   "version": "3.8.10"
  },
  "orig_nbformat": 4,
  "vscode": {
   "interpreter": {
    "hash": "916dbcbb3f70747c44a77c7bcd40155683ae19c65e1c03b4aa3499c5328201f1"
   }
  }
 },
 "nbformat": 4,
 "nbformat_minor": 2
}
